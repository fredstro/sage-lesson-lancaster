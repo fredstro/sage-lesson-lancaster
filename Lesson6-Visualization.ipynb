{
 "cells": [
  {
   "cell_type": "markdown",
   "metadata": {},
   "source": [
    "# Lesson 6 - Visualization\n",
    "\n",
    "time: 30 min\n",
    "\n",
    "## Learning outcomes\n",
    "\n",
    "The student should be aware of different methods to plot functions of 1 and 2 variables:\n",
    "\n",
    "- plot\n",
    "- plot3d\n",
    "- complex_plot\n",
    "- density_plot\n",
    "- being aware of matplotlib\n",
    "- exporting plots\n",
    "- graphics formats\n",
    "- include plots in LaTeX\n",
    "\n",
    "We now have an implementation to compute the Riemann zeta function and would like to study its properties. \n",
    "To get a rough idea of what to expect it is sometimes useful to make some plots. (If you dont have a sucessful implementation to compute zeta you can use the builtin function at this stage if you like. \n",
    "\n",
    "Reference for 3D plotting: https://doc.sagemath.org/html/en/reference/plot3d/\n",
    "\n",
    "One option would be to use the 3d plot:"
   ]
  },
  {
   "cell_type": "code",
   "execution_count": null,
   "metadata": {},
   "outputs": [],
   "source": [
    "# By successive plots in various ranges we find that the first zero seems to be around 1/2 + 14*I \n",
    "plot3d(lambda x, y: abs(zeta(CC(x, y))), (0, 2), (0, 10), viewer='canvas3d')"
   ]
  },
  {
   "cell_type": "markdown",
   "metadata": {},
   "source": [
    "There are different viewer and some might not work in your browser e.g. `threejs` does not work on my laptop... \n",
    "\n",
    "Valid options for viewers are\n",
    "\n",
    "- threejs (default)\n",
    "- jmol\n",
    "- canvas3d\n",
    "- tachyon (a static image)"
   ]
  },
  {
   "cell_type": "code",
   "execution_count": null,
   "metadata": {},
   "outputs": [],
   "source": [
    "plot3d?"
   ]
  },
  {
   "cell_type": "code",
   "execution_count": null,
   "metadata": {},
   "outputs": [],
   "source": [
    "# Alternatively\n",
    "p = plot3d(lambda x, y: abs(zeta(CC(x, y))), (0, 2), (10, 15))\n",
    "p.show(viewer='jmol')"
   ]
  },
  {
   "cell_type": "markdown",
   "metadata": {},
   "source": [
    "Depending on parameter settings the plot might be distorted or fail completely dut to the pole at s=1. \n",
    "\n",
    "**Exercise** \n",
    "Introduce a condition in the lambda function in the plot to be able to plot zeta in a neighbourhood of (x,y)=(0,1) without distorting the figure too much.\n",
    "\n",
    "**Exercise**\n",
    "Use the function `complex_plot` to make another plot of `zeta` in a way which high-lights the first zero. "
   ]
  },
  {
   "cell_type": "code",
   "execution_count": null,
   "metadata": {},
   "outputs": [],
   "source": [
    "p1 = plot(sin, 0, 10)\n",
    "p1"
   ]
  },
  {
   "cell_type": "code",
   "execution_count": null,
   "metadata": {},
   "outputs": [],
   "source": [
    "latex(p1)"
   ]
  },
  {
   "cell_type": "code",
   "execution_count": null,
   "metadata": {},
   "outputs": [],
   "source": [
    "p2 = plot3d(lambda x, y: abs(zeta(CC(x, y))), (0, 1), (10, 15))\n",
    "p2.show(viewer='tachyon')"
   ]
  },
  {
   "cell_type": "code",
   "execution_count": null,
   "metadata": {},
   "outputs": [],
   "source": []
  },
  {
   "cell_type": "code",
   "execution_count": null,
   "metadata": {},
   "outputs": [],
   "source": []
  },
  {
   "cell_type": "markdown",
   "metadata": {},
   "source": [
    "As an alternative here we can save the figure as png:"
   ]
  },
  {
   "cell_type": "code",
   "execution_count": null,
   "metadata": {},
   "outputs": [],
   "source": [
    "p2.save_image('test.png', dpi=600)"
   ]
  },
  {
   "cell_type": "markdown",
   "metadata": {},
   "source": [
    "Note that 2-d plots can be saved as pdf but 3d plots not"
   ]
  },
  {
   "cell_type": "code",
   "execution_count": null,
   "metadata": {},
   "outputs": [],
   "source": [
    "p1.save_image('test1.pdf')"
   ]
  },
  {
   "cell_type": "markdown",
   "metadata": {},
   "source": [
    "**Additional Exercise**\n",
    "Try make a plot like above but using the builtin function `density_plot` instead. Look at the documentation for options and try to choose a good colormap. \n",
    "Export this figure to LaTeX and save this figure as a pdf. \n",
    "\n",
    "Which of the plotting functions above do you think is \"best\"?\n",
    "\n",
    "\n",
    "For more complex plotting functionality it is possible to use matplotlib and/or pyplot directly\n"
   ]
  },
  {
   "cell_type": "code",
   "execution_count": null,
   "metadata": {},
   "outputs": [],
   "source": []
  },
  {
   "cell_type": "code",
   "execution_count": null,
   "metadata": {},
   "outputs": [],
   "source": []
  }
 ],
 "metadata": {
  "kernelspec": {
   "display_name": "SageMath 9.0",
   "language": "sage",
   "name": "sagemath"
  },
  "language_info": {
   "codemirror_mode": {
    "name": "ipython",
    "version": 3
   },
   "file_extension": ".py",
   "mimetype": "text/x-python",
   "name": "python",
   "nbconvert_exporter": "python",
   "pygments_lexer": "ipython3",
   "version": "3.7.3"
  }
 },
 "nbformat": 4,
 "nbformat_minor": 2
}
