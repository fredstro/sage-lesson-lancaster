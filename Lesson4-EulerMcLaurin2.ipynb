{
 "cells": [
  {
   "cell_type": "markdown",
   "metadata": {},
   "source": [
    "# Lesson 4 - Euler—McLaurin evaluation\n",
    "\n",
    "time: 30 min\n",
    "\n",
    "## Learning outcomes\n",
    "\n",
    "Python:\n",
    " - lambda functions\n",
    " - recursive functions\n",
    " \n",
    "SageMath:\n",
    "\n",
    "- symbolic and numerical integrals\n",
    "- plotting\n",
    "\n",
    "To check on the Riemann Hypothesis we need to be able to evaluate $\\zeta$\n",
    "to the left of the real part = 1. We can not rely on the definition as a sum\n",
    "here but need to use a method of analytic continuation. For instance\n",
    "using the Euler—McLaurin Formula for $\\zeta$.\n",
    "\n",
    "Letting $f(n)=n^{-s}$, and $b=\\infty$ and using that\n",
    "$$\n",
    "f^{(j)}(x)=(-1)^j (s)_j x^{-s-j},\n",
    "$$\n",
    "where $(s)_k = s(s+1)\\cdots (s+k-1)$ is the **Pochhammer** symbol:\n",
    "$$\n",
    " (s)_{k} = \\frac{\\Gamma(s+k)}{\\Gamma(s)}\n",
    "$$\n",
    "we obtain the specialized E-M formula, valid for $\\Re(s)>1$:\n",
    "$$\n",
    "\\sum_{n=a}^{\\infty} n^{-s} = \\frac{1}{s-1} a^{1-s}  + \\frac{a^{-s}}{2} - \n",
    "\\sum_{j=2}^{k}\\frac{(s)_{j-1} (-1)^{j-1}B_{j}}{j!}a^{-s-j+1}\n",
    "- \\frac{(s)_k}{k!} \\int_{a}^{\\infty} B_{k}(x-[x]) x^{-s-k} dx.\n",
    "$$\n",
    "and we conclude that \n",
    "$$\n",
    "\\zeta(s) = \\sum_{n=1}^{\\infty} n^{-s} = \\sum_{n=1}^{a-1} n^{-s}\n",
    "+ \n",
    "  \\frac{1}{s-1} a^{1-s}  + \\frac{a^{-s}}{2} - \n",
    "\\sum_{j=2}^{k}\\frac{(s)_{j-1} (-1)^{j-1}B_{j}}{j!}a^{-s-j+1}\n",
    "- \\frac{(s)_k}{k!} \\int_{a}^{\\infty} B_{k}(x-[x])x^{-s-k} dx.\n",
    "$$\n",
    "And here the right-hand side is convergent for $\\Re(s)>1-k$ \n",
    "and moreover decays with both N and a.\n",
    "\n",
    "This formula is now in a form that can be used to approximate $\\zeta$.\n"
   ]
  },
  {
   "cell_type": "code",
   "execution_count": null,
   "metadata": {},
   "outputs": [],
   "source": []
  },
  {
   "cell_type": "markdown",
   "metadata": {},
   "source": [
    "To evaluate zeta at the half-line we thus need to have k at least 1.\n",
    "Let's experiment with k=a=1."
   ]
  },
  {
   "cell_type": "code",
   "execution_count": null,
   "metadata": {},
   "outputs": [],
   "source": [
    "def EM_main_terms1(s):\n",
    "    \"\"\"\n",
    "    Euler—McLaurin with k=1 terms\n",
    "    \"\"\"\n",
    "    term1 = -1 / (1 - s)\n",
    "    term2 = -bernoulli(1)  # This is really just 1/2\n",
    "    return term1 + term2"
   ]
  },
  {
   "cell_type": "code",
   "execution_count": null,
   "metadata": {},
   "outputs": [],
   "source": [
    "EM_main_terms1(2.0)"
   ]
  },
  {
   "cell_type": "code",
   "execution_count": null,
   "metadata": {},
   "outputs": [],
   "source": [
    "zeta(2.0)"
   ]
  },
  {
   "cell_type": "markdown",
   "metadata": {},
   "source": [
    "To see that we get all terms correct we can evaluate the integral numerically.\n",
    "The `numerical_integral` in Sage returns the value and an error estimate."
   ]
  },
  {
   "cell_type": "code",
   "execution_count": null,
   "metadata": {},
   "outputs": [],
   "source": [
    "numerical_integral(x^-3, 1, 100)"
   ]
  },
  {
   "cell_type": "code",
   "execution_count": null,
   "metadata": {},
   "outputs": [],
   "source": [
    "(x^-3).nintegral(x, 1, 100)"
   ]
  },
  {
   "cell_type": "markdown",
   "metadata": {},
   "source": [
    "It is also possible to do symbolic integration:"
   ]
  },
  {
   "cell_type": "code",
   "execution_count": null,
   "metadata": {},
   "outputs": [],
   "source": [
    "%display latex\n",
    "integral(x^(-3), x)"
   ]
  },
  {
   "cell_type": "code",
   "execution_count": null,
   "metadata": {},
   "outputs": [],
   "source": []
  },
  {
   "cell_type": "markdown",
   "metadata": {},
   "source": [
    "## Integration and lambda functions\n",
    "Sometimes it is useful to have an \"anonymous\" function, that can just be used once. These are called $\\lambda$-functions. Although most of the time lambdas can be avoided they can be convenient. "
   ]
  },
  {
   "cell_type": "code",
   "execution_count": null,
   "metadata": {},
   "outputs": [],
   "source": [
    "f = lambda x: sin(x)^2\n",
    "f(x)"
   ]
  },
  {
   "cell_type": "code",
   "execution_count": null,
   "metadata": {},
   "outputs": [],
   "source": [
    "# Unfortunately they don't work in symbolic integrals\n",
    "integral(lambda x: sin(x)^2, x)"
   ]
  },
  {
   "cell_type": "code",
   "execution_count": null,
   "metadata": {},
   "outputs": [],
   "source": [
    "# But we can just use the symbolic function directly\n",
    "integral(sin(x)^2, x)"
   ]
  },
  {
   "cell_type": "code",
   "execution_count": null,
   "metadata": {},
   "outputs": [],
   "source": [
    "# And in numerical integration\n",
    "numerical_integral(lambda x: sin(x)^2, 0, 2*pi)"
   ]
  },
  {
   "cell_type": "code",
   "execution_count": null,
   "metadata": {},
   "outputs": [],
   "source": [
    "numerical_integral(f, 0, 2*RR.pi())"
   ]
  },
  {
   "cell_type": "code",
   "execution_count": null,
   "metadata": {},
   "outputs": [],
   "source": [
    "plot([f, lambda y: numerical_integral(f, 0, y)[0]], (0, 2*RR.pi()))"
   ]
  },
  {
   "cell_type": "code",
   "execution_count": null,
   "metadata": {},
   "outputs": [],
   "source": [
    "def ERR1(s):\n",
    "    f = lambda t: (t - floor(t) - 1/2) * t**(-s - 1)\n",
    "    value, error_estimate = numerical_integral(f, 1, infinity)\n",
    "    return -s * value, -s * error_estimate"
   ]
  },
  {
   "cell_type": "code",
   "execution_count": null,
   "metadata": {},
   "outputs": [],
   "source": [
    "ERR1(2.)"
   ]
  },
  {
   "cell_type": "code",
   "execution_count": null,
   "metadata": {},
   "outputs": [],
   "source": [
    "RR(zeta(2)) - (EM_main_terms1(2.0) + ERR1(2.0)[0])"
   ]
  },
  {
   "cell_type": "markdown",
   "metadata": {},
   "source": [
    "# Recursive functions\n",
    "\n",
    "A recursive function is a function that \"calls itself\". \n",
    "Some (mathematical) functions are natural candidates for writing as recursive functions. For instance the factorial function:"
   ]
  },
  {
   "cell_type": "code",
   "execution_count": null,
   "metadata": {},
   "outputs": [],
   "source": [
    "def factorial_recursive(n):\n",
    "    if n == 1:\n",
    "        return 1\n",
    "    return n * factorial_recursive(n - 1)"
   ]
  },
  {
   "cell_type": "code",
   "execution_count": null,
   "metadata": {},
   "outputs": [],
   "source": [
    "factorial_recursive(100)"
   ]
  },
  {
   "cell_type": "markdown",
   "metadata": {},
   "source": [
    "**Exercise**\n",
    "Write a recursive function that computes the Pochhammer symbol\n",
    "$$\n",
    "(s)_k = s(s+1)(s+2)\\cdots (s+k-1)\n",
    "$$\n",
    "$$\n",
    "(s)_{0}=1\n",
    "$$"
   ]
  },
  {
   "cell_type": "markdown",
   "metadata": {},
   "source": [
    "**Exercise**\n",
    "- Write a function that evaluates $\\zeta(s)$ using the E-M formula (in other words, ignore the integral \"error term\").\n",
    "- Input should be a complex number `s` and two parameters `a` and `k`.\n",
    "\n",
    "**Additional Exercise (for later)**\n",
    "- By comparing with the Builtin `zeta` determine the errors for various values of `a` and `k` and make a (combined) plot to illustrate that changing `a` doesn't affect the result as much as changing `k`."
   ]
  },
  {
   "cell_type": "markdown",
   "metadata": {},
   "source": [
    "There is in fact also a recursive definition of $B_k$:\n",
    "    $B_0 = 1$ and for $k\\ge1$ we have \n",
    "    $$\n",
    "    B_k = - \\sum_{j=0}^{k-1} {k \\choose j} \\frac{B_j}{k-j+1} \n",
    "    $$\n",
    "\n",
    "**Additional Exercise (for later)**\n",
    "Write a recursive function to compute $B_k$."
   ]
  },
  {
   "cell_type": "code",
   "execution_count": null,
   "metadata": {},
   "outputs": [],
   "source": []
  },
  {
   "cell_type": "code",
   "execution_count": null,
   "metadata": {},
   "outputs": [],
   "source": []
  }
 ],
 "metadata": {
  "kernelspec": {
   "display_name": "SageMath 9.0",
   "language": "sage",
   "name": "sagemath"
  },
  "language_info": {
   "codemirror_mode": {
    "name": "ipython",
    "version": 3
   },
   "file_extension": ".py",
   "mimetype": "text/x-python",
   "name": "python",
   "nbconvert_exporter": "python",
   "pygments_lexer": "ipython3",
   "version": "3.7.3"
  }
 },
 "nbformat": 4,
 "nbformat_minor": 2
}
