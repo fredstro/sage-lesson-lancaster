{
 "cells": [
  {
   "cell_type": "markdown",
   "metadata": {},
   "source": [
    "# Lesson 3 - Euler McLaurin and Bernoulli numbers\n",
    "\n",
    "## Learning Outcomes\n",
    "\n",
    "The student will learn to manipulate symbolic expressions: \n",
    "- differentiate\n",
    "- simplify\n",
    "- substitute (evaluate)\n",
    "They will also learn following concepts from SageMath:\n",
    "- taylor expansions\n",
    "- coefficients\n",
    "\n",
    "## Mathematical problem\n",
    "\n",
    "One of the methods available for computing the Riemann zeta function is\n",
    "the Euler - McLaurin summation formula, which in general says that\n",
    "if $f(x)$ is infinitely differentiable on $\\mathbb{R}$,\n",
    "if $a \\le b$ are integers and if $k > 0$ then:\n",
    "\n",
    "Here the constants $B_{k}$ are Bernoulli numbers, the $B_j(x)$ are\n",
    "Bernoulli plynomials and $[x]$ is the integer part of $x$.\n",
    "$$\n",
    "\\sum_{n=a}^{b} f(n) = \\int_{a}^{b} f(x) dx  + \\frac{f(a)-f(b)}{2} + \n",
    "\\sum_{j=1}^{k}\\frac{B_{j}}{(j)!} \\left( f^{(j-1)}(b) - f^{(j-1)}(a)\\right)\n",
    "+ \\frac{(-1)^{k-1}}{(k)!} \\int_{a}^{b} B_{k}(x-[x])f^{(k)}(x) dx.\n",
    "$$\n",
    "\n",
    "### Bernoulli numbers\n",
    "\n",
    "The Bernoulli numbers are a sequence of rational numbers that appear\n",
    "in many parts of number theory and are in particular closely related\n",
    "to the Riemann zeta function.\n",
    "$$\\zeta(s)= \\sum_{n=1}^{\\infty} n^{-s}$$\n",
    "For instance \n",
    "$$\n",
    "\\zeta(2)=\\frac{\\pi^2}{6}, \\quad \\zeta(4)=\\frac{\\pi^4}{90}\\ldots\n",
    "$$\n",
    "and in general \n",
    "$$\n",
    "\\zeta(2k)=(-1)^{k-1}\\frac{(2\\pi)^{2k}}{2(2k)!}B_{2k}\n",
    "$$\n",
    "The Bernoulli numbers $B_k$ can be defined in terms of a generating series:\n",
    "$$\n",
    "F(x) = \\frac{x}{e^x-1} = \\sum_{k=0}^{\\infty} B_k \\frac{1}{k!}x^k\n",
    "$$\n",
    "and we will see how we can use symbolic expressions in SageMath\n",
    "to find their values (this is by far not the most efficient way...)."
   ]
  },
  {
   "cell_type": "markdown",
   "metadata": {},
   "source": [
    "## Symbolic expressions in SageMath\n",
    "When starting Sage the name 'x' is defined as a symbolic variable and other variables have to be declared using\n",
    "the `var('x, y, z, ...')` command.\n",
    "Symbolic expressions can be treated in various ways:\n",
    "- differentiation\n",
    "- simplifications"
   ]
  },
  {
   "cell_type": "code",
   "execution_count": null,
   "metadata": {},
   "outputs": [],
   "source": [
    "x"
   ]
  },
  {
   "cell_type": "code",
   "execution_count": null,
   "metadata": {
    "scrolled": true
   },
   "outputs": [],
   "source": [
    "y"
   ]
  },
  {
   "cell_type": "code",
   "execution_count": null,
   "metadata": {},
   "outputs": [],
   "source": [
    "var('x, y, z')"
   ]
  },
  {
   "cell_type": "code",
   "execution_count": null,
   "metadata": {},
   "outputs": [],
   "source": [
    "y*z"
   ]
  },
  {
   "cell_type": "markdown",
   "metadata": {},
   "source": [
    "### Differentiation"
   ]
  },
  {
   "cell_type": "code",
   "execution_count": null,
   "metadata": {},
   "outputs": [],
   "source": [
    "g = 1 / (x^2 + y^2)\n",
    "print(f\"{'g':20s} = {g}\")\n",
    "print(f\"{'dg/dx':20s} = {diff(g, x)}\")\n",
    "print(f\"{'d^2g/dxdy':20s} = {diff(g, x, y)}\")"
   ]
  },
  {
   "cell_type": "code",
   "execution_count": null,
   "metadata": {},
   "outputs": [],
   "source": [
    "g.differentiate(x, 2)"
   ]
  },
  {
   "cell_type": "markdown",
   "metadata": {},
   "source": [
    "### Simplification"
   ]
  },
  {
   "cell_type": "code",
   "execution_count": null,
   "metadata": {},
   "outputs": [],
   "source": [
    "f = x * y / (x^2 + y^2 )\n",
    "z = diff(f, x, y)\n",
    "z"
   ]
  },
  {
   "cell_type": "code",
   "execution_count": null,
   "metadata": {
    "scrolled": true
   },
   "outputs": [],
   "source": [
    "z.simplify_full()"
   ]
  },
  {
   "cell_type": "markdown",
   "metadata": {},
   "source": [
    "## Substitution"
   ]
  },
  {
   "cell_type": "code",
   "execution_count": null,
   "metadata": {},
   "outputs": [],
   "source": [
    "z1=z.substitute(x=2*y^2+1); z"
   ]
  },
  {
   "cell_type": "code",
   "execution_count": null,
   "metadata": {},
   "outputs": [],
   "source": [
    "z1.simplify_full()"
   ]
  },
  {
   "cell_type": "markdown",
   "metadata": {},
   "source": [
    "**Exercise** \n",
    "Determine the value of $\\frac{\\partial f}{\\partial u}(0,1,1)$ for \n",
    "$$\n",
    "f(s,t,u)=\\frac{s+tu}{\\sqrt{s^2+t^2+u^2}}\n",
    "$$\n",
    "Is it \n",
    "\n",
    "- (a) ${\\sqrt{2}}$\n",
    "\n",
    "- (b) $\\frac{1}{\\sqrt{2}}$\n",
    "\n",
    "- (c) $\\frac{1}{2\\sqrt{2}}$\n",
    "\n",
    "- (d) $\\frac{1}{5\\sqrt{2}}$\n",
    "\n",
    "- (e) None of the above?"
   ]
  },
  {
   "cell_type": "code",
   "execution_count": null,
   "metadata": {},
   "outputs": [],
   "source": []
  },
  {
   "cell_type": "markdown",
   "metadata": {},
   "source": [
    "We can now try to find the Bernoulli numbers:"
   ]
  },
  {
   "cell_type": "code",
   "execution_count": null,
   "metadata": {},
   "outputs": [],
   "source": [
    "F = x / (e^x - 1); F  # The generating function"
   ]
  },
  {
   "cell_type": "markdown",
   "metadata": {},
   "source": [
    "Try to find the first Taylor coefficient:"
   ]
  },
  {
   "cell_type": "code",
   "execution_count": null,
   "metadata": {},
   "outputs": [],
   "source": [
    "g = derivative(F, x, 1); g  # another name for .diff()"
   ]
  },
  {
   "cell_type": "code",
   "execution_count": null,
   "metadata": {},
   "outputs": [],
   "source": [
    "print(g.simplify_full())\n",
    "# yes - there are other types of simplifications.\n",
    "g.substitute(x=0)"
   ]
  },
  {
   "cell_type": "markdown",
   "metadata": {},
   "source": [
    "We can't just divide 0 / 0. We need L'Hopital's rule!"
   ]
  },
  {
   "cell_type": "code",
   "execution_count": null,
   "metadata": {},
   "outputs": [],
   "source": [
    "# Differentiate the numerator  and denominator and divide again:\n",
    "g.numerator().diff(x) / g.denominator().diff(x) "
   ]
  },
  {
   "cell_type": "markdown",
   "metadata": {},
   "source": [
    "Still of the form 0 /0. Need one more derivative!"
   ]
  },
  {
   "cell_type": "code",
   "execution_count": null,
   "metadata": {},
   "outputs": [],
   "source": [
    "# The second parameter gives the number of times we differentiate\n",
    "p = g.numerator().diff(x, 2) / g.denominator().diff(x, 2)  \n",
    "print(p)\n",
    "p = p.simplify_full()\n",
    "print(p)\n",
    "p.substitute(x=0)"
   ]
  },
  {
   "cell_type": "code",
   "execution_count": null,
   "metadata": {},
   "outputs": [],
   "source": [
    "bernoulli(1)"
   ]
  },
  {
   "cell_type": "markdown",
   "metadata": {},
   "source": [
    "So the first Bernoulli number $B_1=-\\frac{1}{2}$.\n",
    "This method is a bit cumbersome but fortunately there is a builtin command in Sage for Taylor expansions "
   ]
  },
  {
   "cell_type": "code",
   "execution_count": null,
   "metadata": {},
   "outputs": [],
   "source": [
    "F.taylor(x, 0, 10)"
   ]
  },
  {
   "cell_type": "code",
   "execution_count": null,
   "metadata": {},
   "outputs": [],
   "source": [
    "type(F.taylor(x, 0, 10))"
   ]
  },
  {
   "cell_type": "markdown",
   "metadata": {},
   "source": [
    "We can convert this to a polynomial over $\\mathbb{Q}$:\n",
    "    "
   ]
  },
  {
   "cell_type": "code",
   "execution_count": null,
   "metadata": {
    "scrolled": true
   },
   "outputs": [],
   "source": [
    "p = F.taylor(x, 0, 10).polynomial(QQ)\n",
    "type(p)"
   ]
  },
  {
   "cell_type": "code",
   "execution_count": null,
   "metadata": {},
   "outputs": [],
   "source": [
    "p"
   ]
  },
  {
   "cell_type": "markdown",
   "metadata": {},
   "source": [
    "For a polynomial we can add a big-Oh"
   ]
  },
  {
   "cell_type": "code",
   "execution_count": null,
   "metadata": {},
   "outputs": [],
   "source": [
    "q = p.add_bigoh(12); q"
   ]
  },
  {
   "cell_type": "code",
   "execution_count": null,
   "metadata": {},
   "outputs": [],
   "source": [
    "print(q.parent())\n",
    "type(q)"
   ]
  },
  {
   "cell_type": "code",
   "execution_count": null,
   "metadata": {},
   "outputs": [],
   "source": [
    "x = q.parent().gen()"
   ]
  },
  {
   "cell_type": "code",
   "execution_count": null,
   "metadata": {},
   "outputs": [],
   "source": [
    "type(q)"
   ]
  },
  {
   "cell_type": "code",
   "execution_count": null,
   "metadata": {},
   "outputs": [],
   "source": [
    "q + (x + 1).add_bigoh(8)"
   ]
  },
  {
   "cell_type": "markdown",
   "metadata": {},
   "source": [
    "We can get coefficients of certain terms in Taylor expansions"
   ]
  },
  {
   "cell_type": "code",
   "execution_count": null,
   "metadata": {},
   "outputs": [],
   "source": [
    "F.taylor(x, 0, 10).coefficient(x^4)"
   ]
  },
  {
   "cell_type": "markdown",
   "metadata": {},
   "source": [
    " We can now write a function that returns the j-th Bernoulli number"
   ]
  },
  {
   "cell_type": "code",
   "execution_count": null,
   "metadata": {},
   "outputs": [],
   "source": [
    "def B(j):\n",
    "    F = x / (e^x - 1)\n",
    "    return F.taylor(x, 0, j).coefficient(x^j)*factorial(j)\n",
    "\n",
    "[B(j) for j in range(1, 10)]"
   ]
  },
  {
   "cell_type": "markdown",
   "metadata": {},
   "source": [
    "## Variable scopes:\n",
    "In general variables inside functions are **local** so they don't affect other variables \"outside\":"
   ]
  },
  {
   "cell_type": "code",
   "execution_count": null,
   "metadata": {},
   "outputs": [],
   "source": [
    "x = 1\n",
    "def my_function(x):\n",
    "    print(f\"x inside function is {x}\")\n",
    "    x = 3\n",
    "    print(f\"x inside function is {x}\")\n",
    "\n",
    "my_function(2)\n",
    "print(x)"
   ]
  },
  {
   "cell_type": "markdown",
   "metadata": {},
   "source": [
    "However, the symbolic variable `x` is special and it gets its scope from the outside."
   ]
  },
  {
   "cell_type": "code",
   "execution_count": null,
   "metadata": {},
   "outputs": [],
   "source": [
    "var('x')\n",
    "x = 0\n",
    "def B(j):\n",
    "    F = x / (e^x - 1)  # x = 1 so F is a constant\n",
    "    return F.taylor(x, 0, j).coefficient(x^j) * factorial(j)\n",
    "[B(j) for j in range(1, 10)]"
   ]
  },
  {
   "cell_type": "code",
   "execution_count": null,
   "metadata": {},
   "outputs": [],
   "source": []
  },
  {
   "cell_type": "code",
   "execution_count": null,
   "metadata": {},
   "outputs": [],
   "source": [
    "def B(j):\n",
    "    var('x')\n",
    "    F = x / (e^x -1)\n",
    "    return F.taylor(x, 0, j).coefficient(x^j) * factorial(j)\n",
    "\n",
    "[B(j) for j in range(1, 10)]"
   ]
  },
  {
   "cell_type": "code",
   "execution_count": null,
   "metadata": {},
   "outputs": [],
   "source": [
    "[bernoulli(j) for j in range(1, 10)]"
   ]
  },
  {
   "cell_type": "markdown",
   "metadata": {},
   "source": [
    "## Bernoulli polynomials\n",
    "The Bernoulli polynomials can also be given by a generating series\n",
    "$$\n",
    " F(x,t) = \\frac{te^{xt}}{e^{t}-1} = \\sum_{n=0}^{\\infty} B_n(x)\\frac{t^n}{n!}\n",
    "$$"
   ]
  },
  {
   "cell_type": "markdown",
   "metadata": {},
   "source": [
    "**Exercise**: Write a function that computes the $n$-th Bernoulli polynomial, $B_n(t)$ using the generating function. Compare this with the builtin function `bernoulli_polynomial`."
   ]
  },
  {
   "cell_type": "markdown",
   "metadata": {},
   "source": [
    "Write the first ($B_1$) Bernoulli polynomial in the HackMD."
   ]
  },
  {
   "cell_type": "code",
   "execution_count": null,
   "metadata": {},
   "outputs": [],
   "source": [
    "GF(3)['x, y']"
   ]
  },
  {
   "cell_type": "code",
   "execution_count": null,
   "metadata": {},
   "outputs": [],
   "source": []
  }
 ],
 "metadata": {
  "kernelspec": {
   "display_name": "SageMath 9.0",
   "language": "sage",
   "name": "sagemath"
  },
  "language_info": {
   "codemirror_mode": {
    "name": "ipython",
    "version": 3
   },
   "file_extension": ".py",
   "mimetype": "text/x-python",
   "name": "python",
   "nbconvert_exporter": "python",
   "pygments_lexer": "ipython3",
   "version": "3.7.3"
  }
 },
 "nbformat": 4,
 "nbformat_minor": 2
}
