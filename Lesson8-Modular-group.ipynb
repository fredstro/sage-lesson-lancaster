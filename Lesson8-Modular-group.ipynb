{
 "cells": [
  {
   "cell_type": "markdown",
   "metadata": {},
   "source": [
    "# Lesson 8 - Subgroups of the modular group\n",
    "\n",
    "## Learning Outcomes\n",
    "\n",
    "The student will:\n",
    "- consolidate their skills working with iterators\n",
    "- learn about the modular group\n",
    "- learn different ways of working with matrix groups in SageMath\n",
    "\n",
    "It is possible to work with both finite and infinite groups in SageMath.\n",
    "In number theory we are mainly interested either in matrix groups over finite fields \n",
    "or arithmetic groups like the modular group $\\operatorname{SL}(2,\\mathbb{Z})$ and its subgroups."
   ]
  },
  {
   "cell_type": "code",
   "execution_count": null,
   "metadata": {},
   "outputs": [],
   "source": [
    "SL(2, RR)"
   ]
  },
  {
   "cell_type": "code",
   "execution_count": null,
   "metadata": {},
   "outputs": [],
   "source": [
    "SL(2, ZZ)"
   ]
  },
  {
   "cell_type": "code",
   "execution_count": null,
   "metadata": {},
   "outputs": [],
   "source": [
    "# Another version of the modular group that is more convenient for number theory. \n",
    "SL2Z"
   ]
  },
  {
   "cell_type": "code",
   "execution_count": null,
   "metadata": {},
   "outputs": [],
   "source": [
    "SL2Z.cardinality()"
   ]
  },
  {
   "cell_type": "markdown",
   "metadata": {},
   "source": [
    "## Subgroups of the modular group\n",
    "\n",
    "Recall that the modular group\n",
    "$\\Gamma = \\operatorname{PSL}(2,\\mathbb{Z}) = \\operatorname{SL}(2,\\mathbb{Z})/\\{\\pm I_2 \\}$\n",
    "(we work with the projective group for simplicity) has an infinite number of \n",
    "subgroups given by congruences, so-called congruence subgroups,\n",
    "determined by the fact that they contain the kernel \n",
    "of a reduction map:\n",
    "$$\n",
    "\\varphi_N : \\operatorname{PSL}(2,\\mathbb{Z}) \\to \\operatorname{PSL}(2,\\mathbb{Z}/N\\mathbb{Z})\n",
    "$$\n",
    "this group is called $\\Gamma(N)$ - the principal congruence subgroup.\n",
    "Another important type of congruence subgroup is \n",
    "$$\n",
    "\\Gamma_{0}(N) = \\left\\{ \n",
    "\\left(\\begin{array}{cc}\n",
    "a & b\\\\\n",
    "c & d\n",
    "\\end{array}\\right)\n",
    "\\in \\Gamma \\mid c \\equiv 0 \\pmod{N} \n",
    "\\right\\}\n",
    "$$\n",
    "It is well-known that the modular group has a presentation as \n",
    "$$\n",
    "\\Gamma = \\langle S, R \\mid S^2=R^3=1 \\rangle\n",
    "$$\n",
    "where \n",
    "$$\n",
    "S = \\left(\\begin{array}{rr}\n",
    "0 & -1 \\\\\n",
    "1 & 0\n",
    "\\end{array}\\right) \\quad \n",
    "\\text{and}\n",
    "\\quad\n",
    "R = \n",
    "\\left(\\begin{array}{rr}\n",
    "0 & -1 \\\\\n",
    "1 & 1\n",
    "\\end{array}\\right)\n",
    "$$\n",
    "If $G \\leqslant \\Gamma$ then the subgroup $G$ can be described through\n",
    "the action of $S$ and $R$ on the right cosets of $G$ in $\\Gamma$. \n",
    "\n",
    "Let $n$ be a positive integer and let $\\sigma_S, \\sigma_R \\in S_n$ such that \n",
    "$\\sigma_S^2 = \\sigma_R^3 = \\operatorname{id}$ (the identity in $S_n$)\n",
    "and such that the subgroup $\\langle \\sigma_S,\\sigma_R \\rangle$\n",
    "acts transitively on the set $\\{1,2,\\ldots,n\\}$.\n",
    "\n",
    "If we now define  a homomorphism \n",
    "$$ h : \\Gamma \\to S_n\n",
    "$$\n",
    "by $h(S)=\\sigma_S$, $h(R)=\\sigma_R$ then \n",
    "$$\n",
    "G = \\{ A \\in \\Gamma \\mid h_G(A)(1)=1 \\}\n",
    "$$\n",
    "is a subgroup of $\\Gamma$, and there is in fact a 1-to-1 correspondence between \n",
    "subgroups of index $n$ and \n",
    "conjugacy classes of such pairs by permutations that fixes $1$, i.e. \n",
    "$\\sigma \\sim \\rho \\Leftrightarrow \\sigma = \\pi \\rho \\pi^{-1}$ for some $\\pi$ with $\\pi(1)=1$.\n",
    "\n",
    "Given a subgroup $G$ corresponding to  a pair $(\\sigma_S,\\sigma_R)$\n",
    "in $S_n$ it is possible to obtain a lot of geometric information\n",
    "about $G$ (or rather the orbifold $\\mathcal{M}=G\\backslash \\mathbb{H}$)\n",
    "from the permutations:\n",
    "1. The index of $G$ in $\\Gamma$ is $n$ (so the volume of $\\mathcal{M}$ is $\\frac{n\\pi}{3}$.\n",
    "2. The number of fixed points of $\\sigma_S$ is $e_2$, the number of elliptic points of order $2$.\n",
    "3. The number of fixed points of $\\sigma_R$ is $e_3$, the number of elliptic points of order $3$.\n",
    "4. The number of fixed points of $\\sigma_T = \\sigma_S \\sigma_R$ is $e_{\\infty}$, the number of cusps. \n",
    "5. The genus is then given by \n",
    "$$\n",
    "g = 1 + \\frac{1}{2}\\left( \\frac{n}{6} - e_{\\infty} - \\frac{1}{2}e_2 - \\frac{2}{3} e_3 \\right)\\tag{*}\n",
    "$$\n",
    "\n",
    "It can in fact be shown that the if a tuple $(n;g,e_2,e_3,e_{\\infty})$\n",
    "(we will refer to this as a **signature** although this is not what\n",
    "geometers do) with $n,e_{\\infty}>0$ and $e_2,e_3,g\\ge0$ satisfies $(*)$\n",
    "then there exists a subgroup with these properties. \n",
    "\n",
    "For historical reasons arithmetic groups (here only subgroups of the\n",
    "modular group) are differnetly represented in Sage than general\n",
    "algebraic groups $\\operatorname{SL}(n)$ and $\\operatorname{GL}(n)$.\n",
    "The reason is the origin of Sage as a tool to compute with modular symbols and forms.\n",
    "The classes ..."
   ]
  },
  {
   "cell_type": "code",
   "execution_count": null,
   "metadata": {},
   "outputs": [],
   "source": [
    "# One way to use this is to use permutation representation of a given group \n",
    "G = Gamma0(3).as_permutation_group()\n",
    "print(G.permutation_action(S))\n",
    "print(G.permutation_action(R))"
   ]
  },
  {
   "cell_type": "markdown",
   "metadata": {},
   "source": [
    "But it is also possible to use this to find subgroups.\n",
    "\n",
    "**Exercise**\n",
    "\n",
    "a) Find all valid signatures of index $n=6$.\n",
    "\n",
    "  (Hint: look up the `cartesian_product_iterator` function)\n",
    "\n",
    "b) For each of these signatures, determine the number of subgroups of the modular group with the corresponding signature.\n",
    "\n",
    "c) For each subgroup determine if it is a congruence subgroup or not. \n",
    "  \n",
    "  (Hint: use the builtin constructor `ArithmeticSubgroup_Permutation`)"
   ]
  },
  {
   "cell_type": "code",
   "execution_count": null,
   "metadata": {},
   "outputs": [],
   "source": []
  }
 ],
 "metadata": {
  "kernelspec": {
   "display_name": "SageMath 9.0",
   "language": "sage",
   "name": "sagemath"
  },
  "language_info": {
   "codemirror_mode": {
    "name": "ipython",
    "version": 3
   },
   "file_extension": ".py",
   "mimetype": "text/x-python",
   "name": "python",
   "nbconvert_exporter": "python",
   "pygments_lexer": "ipython3",
   "version": "3.7.3"
  }
 },
 "nbformat": 4,
 "nbformat_minor": 2
}
