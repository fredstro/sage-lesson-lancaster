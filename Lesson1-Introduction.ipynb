{
 "cells": [
  {
   "cell_type": "markdown",
   "metadata": {},
   "source": [
    "# Lesson 1 - Introduction to Python and SageMath\n",
    "\n",
    "Expected completion time: 30 to 45 minutes\n",
    "\n",
    "In this lesson we will introduce some of the fundamental concepts in Python and SageMath. \n",
    "These will then be used in subsequent lessons. \n",
    "\n",
    "## Learning outcomes\n",
    "\n",
    "1. Introduction to SageMath\n",
    "2. Learn how to run Sage\n",
    "3. Start a notebook\n",
    "4. Basic expressions and variables \n",
    "  - variable types, dicts, lists \n",
    "  - functions, passing arguments by value or reference \n",
    "  - loops vs. list comprehensions\n",
    "  - exceptions\n",
    "  - docstrings\n",
    "\n",
    "## What is SageMath?\n",
    "\n",
    "SageMath was originally developed by William Stein and first released in 2005.\n",
    "It was initially called SAGE, then Sage, and now SageMath, or Sage for short.\n",
    "The intention behind SageMath is to provide a free, open source alternative\n",
    "to Magma, Maple, Mathematica, MATLAB etc. with an easy to use interface\n",
    "(both for end-users and developers) built on Python (Cython) and which can\n",
    "integrate with other free or commercial packages (installed separately).\n",
    "\n",
    "The default [installation](https://wiki.sagemath.org/DownloadAndInstallationGuide)\n",
    "contains many (over 150) different free packages, including:\n",
    "- Pari/GP\n",
    "- GAP\n",
    "- Singular\n",
    "- R\n",
    "- Numpy\n",
    "- matplotlib\n",
    "- ...\n",
    "\n",
    "For a full list see: https://www.sagemath.org/links-components.html\n",
    "\n",
    "It can be integrated with existing commercial packages like\n",
    "- Magma\n",
    "- Mathematica\n",
    "- Maple\n",
    "\n",
    "Full documentation is included in the source of SageMath and is available online,\n",
    "together with a multitude of tutorials etc.<br>\n",
    "See for instance https://www.sagemath.org/tour.html\n",
    "\n",
    "## Optional packages\n",
    "\n",
    "Some packages that are not shipped with SageMath are available to install afterwards.\n",
    "- In the terminal (on Windows, use the \"SageMath Shell\"):\n",
    "  - `sage -i <package_name>` - to install optional Sage package\n",
    "  - `sage --pip install <py_package_name>` - to install extra Python package using `pip`\n",
    "- In a SageMath session (on Windows, use \"SageMath\" or \"SageMath Notebook\"):\n",
    "  - `sage: installed_packages()` - to list all installed packages\n",
    "  - `sage: optional_packages()` - to list installed and available optional packages\n",
    "\n",
    "For example,\n",
    "- install additional GAP packages by running `sage -i gap_packages`\n",
    "- install JupyterLab by running `sage --pip install jupyterlab`\n",
    "- install Pandas by running `sage --pip install pandas`\n",
    "\n",
    "## How to start SageMath\n",
    "\n",
    "- **On your own machine** (with SageMath installed)\n",
    "  - For the Sage REPL (read-eval-print loop) or command-line interactive use:\n",
    "    - `sage` to run Sage\n",
    "    - `sage --help` to see all options, e.g. `--python`, `--pip`, etc.\n",
    "  - For the Jupyter Notebook interface, run one of:\n",
    "    - `sage -n jupyter --notebook-dir=<dir>`\n",
    "    - `sage --notebook=jupyter --notebook-dir=<dir>`\n",
    "    - `sage --jupyter notebook --notebook-dir=<dir>`\n",
    "  - For the JupyterLab interface (if installed -- see above), run one of:\n",
    "    - `sage -n jupyterlab --notebook-dir=<dir>`\n",
    "    - `sage --notebook=jupyterlab --notebook-dir=<dir>`\n",
    "    - `sage --jupyter lab --notebook-dir=<dir>`\n",
    "\n",
    "- **Online**\n",
    "  - SageMathCell: https://sagecell.sagemath.org/ - write SageMath code directly in the browser\n",
    "  - Cocalc: https://cocalc.com - full interactive notebook environment (compare with Google Colab)\n",
    "  - Binder: https://opendreamkit.org/try/ - temporary instance\n",
    "\n",
    "## Getting help with SageMath\n",
    "\n",
    "- `<function_name>?` - to read documentation (docstring)\n",
    "- `<function_name>??` - to read the source (if available)\n",
    "- `<object_name>.<tab>` - use tab completion to see available properties\n",
    "- Help button in the toolbar links to the [online documentation](https://doc.sagemath.org/html/en/reference/index.html)\n",
    "\n",
    "**Example**: Try using these features for yourself below. Run a code cell by first selecting it and then either\n",
    "- Press the `Run` button in the toolbar above\n",
    "- Use the keyboard shortcut <kbd>Ctrl</kbd>+<kbd>Enter</kbd> or <kbd>Shift</kbd>+<kbd>Enter</kbd>"
   ]
  },
  {
   "cell_type": "code",
   "execution_count": null,
   "metadata": {},
   "outputs": [],
   "source": [
    "gcd?"
   ]
  },
  {
   "cell_type": "code",
   "execution_count": null,
   "metadata": {},
   "outputs": [],
   "source": [
    "x = 1\n",
    "x."
   ]
  },
  {
   "cell_type": "markdown",
   "metadata": {},
   "source": [
    "## Programming in SageMath\n",
    "\n",
    "Check that your kernel is set to SageMath (e.g. SageMath 9.0) in the top right of the toolbar. <br>\n",
    "You can change your kernel using the `Kernel` button on the toolbar to set the default to Python (2.7 or 3.x depending on your version of SageMath). <br>\n",
    "Since version 9.0 released in January 2020, SageMath is using Python 3.\n",
    "\n",
    "Since the main functionality of SageMath is written in Python it means that most of the programming can be done using Python. There are however some subtle differences.\n",
    "\n",
    "### Variable types in Python\n",
    "- Numerical types: `int`, `float`, `complex`\n",
    "- Strings: `str` \n",
    "- Lists: `list`\n",
    "- Tuple: `tuple`\n",
    "- Dictionary: `dict`\n",
    "- Set: `set`\n",
    "\n",
    "**Example**: Run the cell below to explore basic data types in Python"
   ]
  },
  {
   "cell_type": "code",
   "execution_count": null,
   "metadata": {},
   "outputs": [],
   "source": [
    "%%python3\n",
    "# We run Jupyter cells in SageMath mode by default but can run individual cells in Python using Jupyter magics\n",
    "# As Python 2 is still the default for older versions of SageMath it is better to be explicit about Python version. \n",
    "\n",
    "x = 2\n",
    "print(x, type(x))  # int\n",
    "\n",
    "# Combine multiple statements with ';' -- avoid this in practice since it reduces readability \n",
    "y = 2.0; print(y, type(y))  # float\n",
    "r = 3/4; print(r, type(r))  # float\n",
    "z = 1 + 1j; print(z, type(z))  # complex\n",
    "s = \"hello\"; print(s, type(s))  # string\n",
    "l = [1, 2, 2]; print(l, type(l))  # list\n",
    "t = (1, 2, 2); print(t, type(t))  # tuple\n",
    "d = {1: 'a', 'b': 2}; print(d, type(d))  # dictionary\n",
    "A = set([1, 2, 3, 2]); print(A, type(A))  # set"
   ]
  },
  {
   "cell_type": "markdown",
   "metadata": {},
   "source": [
    "Note that in Python 2, dividing two `int` variables uses \"integer division with floor floor function\""
   ]
  },
  {
   "cell_type": "code",
   "execution_count": null,
   "metadata": {},
   "outputs": [],
   "source": [
    "%%python2\n",
    "r = 3/4; print(r, type(r))\n",
    "r = -3/4; print(r, type(r))"
   ]
  },
  {
   "cell_type": "markdown",
   "metadata": {},
   "source": [
    "### Variable types in SageMath\n",
    "\n",
    "In SageMath defaults for many numeric types are overwritten. For example:\n",
    "- Integers are by default cast to SageMath's `Integer` type, which has different behaviour from Python's `int`\n",
    "- Instead of `float`, SageMath uses `RealLiteral` and `Rational` (where appropraite)"
   ]
  },
  {
   "cell_type": "code",
   "execution_count": null,
   "metadata": {
    "scrolled": true
   },
   "outputs": [],
   "source": [
    "x = 2 # Integer\n",
    "y = 2.0 # Real/floating point numbers with `RealLiteral`\n",
    "r = 3/4 # Rational\n",
    "z_num = 1 + 1j # Numerical complex numbers with `ComplexNumber`\n",
    "z_sym = 1 + 1*I # Symbolic complex numbers with `Expression`\n",
    "\n",
    "# Reduce writing and improve readability by iterating over a list using a `for` loop\n",
    "for var in [x, y, r, z_num, z_sym]:\n",
    "    print(var, type(var))"
   ]
  },
  {
   "cell_type": "markdown",
   "metadata": {},
   "source": [
    "# Sets\n",
    "Sets are useful for making lists with unique elements, are order ambivalent, and can be defined using either braces `{}` or the `set()` constructor function."
   ]
  },
  {
   "cell_type": "code",
   "execution_count": null,
   "metadata": {},
   "outputs": [],
   "source": [
    "X = set([1, 2, 3, 4, 4, 4, 5])\n",
    "Y = {5, 3, 2, 4, 2}\n",
    "print(X)\n",
    "print(Y)\n",
    "print(list(X))"
   ]
  },
  {
   "cell_type": "markdown",
   "metadata": {},
   "source": [
    "The `set` type features many useful methods such as unions and intersections. See the documentation [here](https://docs.python.org/3/library/stdtypes.html#set)."
   ]
  },
  {
   "cell_type": "code",
   "execution_count": null,
   "metadata": {},
   "outputs": [],
   "source": [
    "A = set([1, 2, 3, 4])\n",
    "B = set(['a', 'b', 'c', 1, 2, 8])\n",
    "A.intersection(B)"
   ]
  },
  {
   "cell_type": "markdown",
   "metadata": {},
   "source": [
    "### Precision of variables in SageMath\n",
    "SageMath stores variables to higher levels of precision than Python\n",
    "- The `RR` keyword denotes the Real Field with 53 bits of precision (double precision)\n",
    "- The `CC` keyword denotes the Complex Field with 53 bits of precision\n",
    "- We can construct fields with higher precision using `RealField(prec)` and `ComplexField(prec)`"
   ]
  },
  {
   "cell_type": "code",
   "execution_count": null,
   "metadata": {
    "scrolled": true
   },
   "outputs": [],
   "source": [
    "for field in [RR, RealField(106), CC, ComplexField(106)]:\n",
    "    print(field)"
   ]
  },
  {
   "cell_type": "markdown",
   "metadata": {},
   "source": [
    "We can contruct high precision complex numbers as field elements as follows:"
   ]
  },
  {
   "cell_type": "code",
   "execution_count": null,
   "metadata": {},
   "outputs": [],
   "source": [
    "my_complex_field = ComplexField(106)\n",
    "z1 = my_complex_field(1, 10)\n",
    "z2 = my_complex_field(5, 5)\n",
    "\n",
    "for num in [z1, z2, z1 + z2]:\n",
    "    print(num)"
   ]
  },
  {
   "cell_type": "markdown",
   "metadata": {},
   "source": [
    "There are also builtin constants that can be given to arbitrary precision"
   ]
  },
  {
   "cell_type": "code",
   "execution_count": null,
   "metadata": {},
   "outputs": [],
   "source": [
    "print(RR.pi())\n",
    "print(RealField(106).pi())\n",
    "high_prec_one = RealField(1000)(1)\n",
    "print(high_prec_one)\n",
    "print(exp(high_prec_one))  # the builtin `exp` function\n",
    "print(high_prec_one.exp())  # the `exp` method of the `RealNumber` class"
   ]
  },
  {
   "cell_type": "markdown",
   "metadata": {},
   "source": [
    "# Objects, Parents, Elements and categories\n",
    "\n",
    "In Python and even more so in SageMath everything is an object and has properties and methods. <br>\n",
    "In SageMath most (every?) object is either an Element or a Parent"
   ]
  },
  {
   "cell_type": "code",
   "execution_count": null,
   "metadata": {},
   "outputs": [],
   "source": [
    "F = RealField(53)  # Parent\n",
    "x = F(2)  # Element\n",
    "print(type(F))\n",
    "print(type(x))\n",
    "F.is_parent_of(x)  # True\n",
    "print(x in F)  # True"
   ]
  },
  {
   "cell_type": "code",
   "execution_count": null,
   "metadata": {},
   "outputs": [],
   "source": [
    "x.parent()  # Returns a copy of F"
   ]
  },
  {
   "cell_type": "code",
   "execution_count": null,
   "metadata": {},
   "outputs": [],
   "source": [
    "x.category()  # The category of x, a category of elements"
   ]
  },
  {
   "cell_type": "code",
   "execution_count": null,
   "metadata": {},
   "outputs": [],
   "source": [
    "F.category()  # The category of F"
   ]
  },
  {
   "cell_type": "markdown",
   "metadata": {},
   "source": [
    "### String formatting\n",
    "In previous versions of Python there were more types of strings but in current Python there are basically only strings `str` and bytestrings `bytes` (which we do not discuss here)\n",
    "\n",
    "We can control how strings are formatted when printing by using either the `format` method or by using formatted strings, which are strings with an `f` character before the first quotation mark. Please see the examples below, and follow this [link](https://www.programiz.com/python-programming/methods/string/format) for a reference on string formatting. "
   ]
  },
  {
   "cell_type": "code",
   "execution_count": null,
   "metadata": {},
   "outputs": [],
   "source": [
    "x = RR(2)  # The real number 2, up to 53 bits of precision\n",
    "print(\"x = {0}\".format(x))    # format method\n",
    "print(f\"x = {x}\")             # f-strings\n",
    "print(f\"exp(x) = {x.exp()}\")  # Can call functions in f-strings\n",
    "print(f\"π is about {float(RR.pi()):0.5f}\")  # As floating point number with 5 decimals"
   ]
  },
  {
   "cell_type": "markdown",
   "metadata": {},
   "source": [
    "**Exercise 1**.  Print $e^{\\pi}$ as a floating point number to 225 decimal places."
   ]
  },
  {
   "cell_type": "markdown",
   "metadata": {},
   "source": [
    "**Python solution**: Use the `decimal` library ([documentation](https://docs.python.org/3.8/library/decimal.html))"
   ]
  },
  {
   "cell_type": "code",
   "execution_count": null,
   "metadata": {},
   "outputs": [],
   "source": [
    "%%python3\n",
    "import decimal, math\n",
    "import numpy as np\n",
    "decimal.getcontext().prec = 225\n",
    "print(f\"{decimal.Decimal(math.pi)}\\n{decimal.Decimal(np.pi)}\") "
   ]
  },
  {
   "cell_type": "markdown",
   "metadata": {},
   "source": [
    "The cell above shows that there is not enough precision in the stored values of `pi` in the `math` and `numpy` libraries for our application, so we must use an algorithm to calculate it to a higher precision. We use the [Gauss-Legendre algorithm](https://en.wikipedia.org/wiki/Gauss-Legendre_algorithm) for its fast convergence rate."
   ]
  },
  {
   "cell_type": "code",
   "execution_count": null,
   "metadata": {},
   "outputs": [],
   "source": [
    "%%python3\n",
    "from decimal import Decimal, getcontext\n",
    "import numpy as np\n",
    "getcontext().prec = 227\n",
    "num_iter = 8\n",
    "one = Decimal(1)\n",
    "two = Decimal(2)\n",
    "four = Decimal(4)\n",
    "\n",
    "def gauss_legendre_algorithm(num_iter):\n",
    "    r\"\"\"Implement the Gauss-Legendre algorithm for the specified number of iterations\n",
    "    \n",
    "    Return an `np.array` of approximations to pi of increasing accuracy\"\"\"\n",
    "    a, b, t, = [one], [two.sqrt()/two], [one/four]\n",
    "    approx = list()\n",
    "    for i in range(num_iter):\n",
    "        a.append((a[i] + b[i]) / two)\n",
    "        b.append((a[i] * b[i]).sqrt())\n",
    "        t.append(t[i] - getcontext().power(two, Decimal(i)) * (a[i] - a[i+1]) * (a[i] - a[i+1]))\n",
    "        approx.append((a[i+1] + b[i+1]) * (a[i+1] + b[i+1]) / (four * t[i+1]))\n",
    "    return np.array(approx)\n",
    "\n",
    "approx = gauss_legendre_algorithm(num_iter)\n",
    "print(approx == approx[-1])  # Stabilised to 225 decimal places precision after 7 iterations\n",
    "precise_pi = approx[-1]\n",
    "result = precise_pi.exp()\n",
    "print(result)\n",
    "print(f\"Number of decimal places = {len(str(result).split('.')[-1])}\")  # Count digits after decimal point"
   ]
  },
  {
   "cell_type": "markdown",
   "metadata": {},
   "source": [
    "**SageMath solution**: \n",
    "- Note that this can be calculated using many fewer lines of code since there are builtin SageMath algorithms running behind the scenes. \n",
    "- Note also that we must convert from bit (binary) precision to precision in decimal places by multiplying by $\\log_{2}(10) \\approx 3.32$"
   ]
  },
  {
   "cell_type": "code",
   "execution_count": null,
   "metadata": {},
   "outputs": [],
   "source": [
    "required_bit_prec = 228 * RR(10).log2()  # Calculate required binary precision from decimal\n",
    "exp_pi = RealField(required_bit_prec).pi().exp()\n",
    "print(exp_pi)\n",
    "print(f\"Number of decimal places = {len(str(exp_pi).split('.')[-1])}\")  # Count digits after decimal point"
   ]
  },
  {
   "cell_type": "markdown",
   "metadata": {},
   "source": [
    "## Functions\n",
    " - Function names should be descriptive and use \"snake_case\" (this is a Python convention)\n",
    " - Variable names in Python should also be lower, snake_case\n",
    " - In SageMath we also use mathematical conventions even if they break this, e.g. `Ei` for the exponential integral function \n",
    " - For full document about coding conventions see: http://doc.sagemath.org/html/en/developer/coding_basics.html"
   ]
  },
  {
   "cell_type": "code",
   "execution_count": null,
   "metadata": {},
   "outputs": [],
   "source": [
    "# A first function\n",
    "def is_zero_mod_3(x):\n",
    "    return x % 3 == 0  # The % is the Python modulo operation: remainder in integer division"
   ]
  },
  {
   "cell_type": "code",
   "execution_count": null,
   "metadata": {},
   "outputs": [],
   "source": [
    "is_zero_mod_3(5)"
   ]
  },
  {
   "cell_type": "code",
   "execution_count": null,
   "metadata": {},
   "outputs": [],
   "source": [
    "# Does this make sense?\n",
    "is_zero_mod_3(5.4)"
   ]
  },
  {
   "cell_type": "code",
   "execution_count": null,
   "metadata": {},
   "outputs": [],
   "source": [
    "is_zero_mod_3(1+1j)  # Raises type error"
   ]
  },
  {
   "cell_type": "markdown",
   "metadata": {},
   "source": [
    "Sage has an alternative modulo reduction function "
   ]
  },
  {
   "cell_type": "code",
   "execution_count": null,
   "metadata": {},
   "outputs": [],
   "source": [
    "Mod(5, 3)"
   ]
  },
  {
   "cell_type": "code",
   "execution_count": null,
   "metadata": {},
   "outputs": [],
   "source": [
    "type(Mod(5, 3))"
   ]
  },
  {
   "cell_type": "code",
   "execution_count": null,
   "metadata": {},
   "outputs": [],
   "source": [
    "# Add handling of input\n",
    "def is_zero_mod_3(x):\n",
    "    if not isinstance(x, int):\n",
    "        raise ValueError(f\"Received input of type {type(x)}. This function needs an integer!\")\n",
    "    return x % 3 == 0"
   ]
  },
  {
   "cell_type": "code",
   "execution_count": null,
   "metadata": {},
   "outputs": [],
   "source": [
    "# Better and more informative error is raised\n",
    "is_zero_mod_3(1 + 1j) "
   ]
  },
  {
   "cell_type": "code",
   "execution_count": null,
   "metadata": {},
   "outputs": [],
   "source": [
    "is_zero_mod_3(int(6))"
   ]
  },
  {
   "cell_type": "code",
   "execution_count": null,
   "metadata": {},
   "outputs": [],
   "source": [
    "# However, this doesn't work as intended\n",
    "is_zero_mod_3(6)"
   ]
  },
  {
   "cell_type": "markdown",
   "metadata": {},
   "source": [
    "The issue is that we checked for type `int` but in a SageMath environment the default type for integers is `Integer`. Need to check for both types!"
   ]
  },
  {
   "cell_type": "code",
   "execution_count": null,
   "metadata": {},
   "outputs": [],
   "source": [
    "# Add handling of input\n",
    "def is_zero_mod_3(x):\n",
    "    if not isinstance(x, (int, Integer)):  # Multiple types should be given as a tuple\n",
    "        raise ValueError(f\"Received input of type {type(x)}. This function needs an integer!\")\n",
    "    return x % 3 == 0"
   ]
  },
  {
   "cell_type": "code",
   "execution_count": null,
   "metadata": {},
   "outputs": [],
   "source": [
    "is_zero_mod_3(6)"
   ]
  },
  {
   "cell_type": "markdown",
   "metadata": {},
   "source": [
    "When writing our own functions we can help future users check the expected inputs in advance by writing a docstring (documentation string)."
   ]
  },
  {
   "cell_type": "code",
   "execution_count": null,
   "metadata": {},
   "outputs": [],
   "source": [
    "is_zero_mod_3?"
   ]
  },
  {
   "cell_type": "code",
   "execution_count": null,
   "metadata": {},
   "outputs": [],
   "source": [
    "# Let's add a docstring\n",
    "def is_zero_mod_3(x):\n",
    "    r\"\"\"\n",
    "    Return True if input is congruent to 0 mod 3, otherwise return False\n",
    "    \n",
    "    INPUT:\n",
    "    \n",
    "    - ``x`` -- integer\n",
    "    \n",
    "    OUTPUT: A boolean describing whether the input is congruent to 0 mod 3 or not.\n",
    "    \"\"\"\n",
    "    if not isinstance(x, (Integer, int)):\n",
    "        raise ValueError(f\"Received input of type {type(x)}. This function needs an integer!\")\n",
    "    return x % 3 == 0"
   ]
  },
  {
   "cell_type": "code",
   "execution_count": null,
   "metadata": {},
   "outputs": [],
   "source": [
    "# Now a potential user knows what input and output to expect.\n",
    "is_zero_mod_3?"
   ]
  },
  {
   "cell_type": "code",
   "execution_count": null,
   "metadata": {
    "scrolled": true
   },
   "outputs": [],
   "source": [
    "is_zero_mod_3(\"test\")"
   ]
  },
  {
   "cell_type": "markdown",
   "metadata": {},
   "source": [
    "Variables in functions:"
   ]
  },
  {
   "cell_type": "code",
   "execution_count": null,
   "metadata": {},
   "outputs": [],
   "source": [
    "# Scalar values get passed by value into functions, i.e. what happens in the function stays in the function:\n",
    "x = 1\n",
    "\n",
    "def add_one(x):\n",
    "    x = x + 1\n",
    "    print(f\"x = {x}\")\n",
    "\n",
    "y = 1\n",
    "print(y)\n",
    "add_one(y)\n",
    "print(y)\n",
    "print(x)"
   ]
  },
  {
   "cell_type": "code",
   "execution_count": null,
   "metadata": {},
   "outputs": [],
   "source": [
    "# Dictionaries get passed by reference, i.e. what happens in the function also happens outside.\n",
    "d = {'a': 1}\n",
    "print(d['a'])  # Get d['a'] if d has 'a' as a key, raise an error if not\n",
    "print(d.get('b', 'default'))  # Get d['b'] if 'b' is a key, otherwise return 'default' (or None if no default value is given)\n",
    "\n",
    "def add_one(d):\n",
    "    d['a'] = d.get('a') + 1\n",
    "    print(f\"d = {d}\")\n",
    "\n",
    "print(d)\n",
    "add_one(d)\n",
    "print(d)"
   ]
  },
  {
   "cell_type": "code",
   "execution_count": null,
   "metadata": {},
   "outputs": [],
   "source": [
    "[1] + 1  # Addition of integers and lists in this way is not supported"
   ]
  },
  {
   "cell_type": "markdown",
   "metadata": {},
   "source": [
    " ### Type hints\n",
    " In Python 3 it is also possible to add type hints. <br>\n",
    " Note that these are mainly to guide an IDE or to be checked by a pre-parser. They are not enforced by Python. "
   ]
  },
  {
   "cell_type": "code",
   "execution_count": null,
   "metadata": {},
   "outputs": [],
   "source": [
    "# Let's add a docstring\n",
    "def is_zero_mod_3(x: int) -> bool:\n",
    "    r\"\"\"\n",
    "    Return True if input is congruent to 0 mod 3, otherwise return False\n",
    "    \n",
    "    INPUT:\n",
    "    \n",
    "    - ``x`` -- integer\n",
    "    \n",
    "    OUTPUT: A boolean describing whether the input is congruent to 0 mod 3 or not.\n",
    "    \"\"\"\n",
    "    if not isinstance(x, (Integer, int)):\n",
    "        raise ValueError(f\"Received input of type {type(x)}. This function needs an integer!\")\n",
    "    return x % 3 == 0"
   ]
  },
  {
   "cell_type": "markdown",
   "metadata": {},
   "source": [
    "**Exercise 2**  Write a function with the following specifications:\n",
    "  1. Takes as input an integer $x$ and a positive integer $n$\n",
    "  2. Returns True if $x$ is congruent to a square modulo $n$ and otherwise False.\n",
    "  3. Handles errors in input with sensible error messages.\n",
    "  4. Includes a docstring which describes the function. "
   ]
  },
  {
   "cell_type": "code",
   "execution_count": null,
   "metadata": {},
   "outputs": [],
   "source": [
    "def is_square_residue(x, n: int) -> bool:\n",
    "    r\"\"\"\n",
    "    Return `True` if $x$ is congruent to a squared integer modulo $n$, otherwise return `False`\n",
    "    \n",
    "    INPUTS:\n",
    "    - ``x`` -- an integer\n",
    "    - ``n`` -- a positive integer\n",
    "    \n",
    "    OUTPUT: A boolean describing whether there are any solutions $a$ to $x \\equiv a^{2} \\mod n$ for inputs `x` and `n`\n",
    "    \"\"\"\n",
    "    if not (isinstance(x, (Integer, int)) and isinstance(n, (Integer, int)) and n > 0):\n",
    "        raise ValueError(f\"Received inputs (x, n) = ({x}, {n}) of type ({type(x)}, {type(n)}). Inputs should be integers, with n positive!\")\n",
    "    return (x % n) in set(a**2 for a in range(n))"
   ]
  },
  {
   "cell_type": "code",
   "execution_count": null,
   "metadata": {},
   "outputs": [],
   "source": [
    "n = 8\n",
    "for x in range(n):\n",
    "    print(x, is_square_residue(x, n))"
   ]
  },
  {
   "cell_type": "markdown",
   "metadata": {},
   "source": [
    "## Functions and objects\n",
    "Functions are also objects and can be introspected via their properties.\n",
    "Class methods can be modified at runtime (monkey-patching)"
   ]
  },
  {
   "cell_type": "code",
   "execution_count": null,
   "metadata": {},
   "outputs": [],
   "source": [
    "category(is_zero_mod_3)"
   ]
  },
  {
   "cell_type": "code",
   "execution_count": null,
   "metadata": {},
   "outputs": [],
   "source": [
    "# some property...\n",
    "is_zero_mod_3.__code__.co_argcount"
   ]
  },
  {
   "cell_type": "code",
   "execution_count": null,
   "metadata": {},
   "outputs": [],
   "source": [
    "\n"
   ]
  }
 ],
 "metadata": {
  "kernelspec": {
   "display_name": "SageMath 9.0",
   "language": "sage",
   "name": "sagemath"
  },
  "language_info": {
   "codemirror_mode": {
    "name": "ipython",
    "version": 3
   },
   "file_extension": ".py",
   "mimetype": "text/x-python",
   "name": "python",
   "nbconvert_exporter": "python",
   "pygments_lexer": "ipython3",
   "version": "3.7.3"
  }
 },
 "nbformat": 4,
 "nbformat_minor": 2
}
