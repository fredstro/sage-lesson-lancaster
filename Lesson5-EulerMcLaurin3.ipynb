{
 "cells": [
  {
   "cell_type": "markdown",
   "metadata": {},
   "source": [
    "# Lesson 5\n",
    "\n",
    "time: 30 min\n",
    "\n",
    "## Learning outcomes:\n",
    "\n",
    "- introduction to classes in Python\n",
    "- \"dunder\" methods\n",
    "- private and public methods and variables\n",
    "- saving and loading objects\n",
    "- caching\n",
    "\n",
    "We now want to see how good the methods we have developed for computing the Riemann zeta function are.\n",
    "So far we have mainly been working in Python using **functional** or **imperative** programming styles. An alternative is so-called **object-oriented** programming where the basic building blocks are **objects** belonging to **classes** (think of elements belonging to sets or vectors in vector spaces).\n",
    "A class is simply a collection of properties that a certain type of objects share. \n",
    "\n",
    "One of the good things with Python is that it is easy to use a combination of these styles and simply adapt to what is most natural at the moment. \n",
    "\n",
    "Most of SageMath is implemented in an object oriented manner, where **classes** and **subclasses** often correspond to categories and subcategories or spaces and subspaces etc. in a natural way.\n",
    "\n",
    "One reason for using OO programming is simply to organise your code. \n",
    "Let's consider the following class which can help us to organise the code we have written so far. \n",
    "\n"
   ]
  },
  {
   "cell_type": "code",
   "execution_count": null,
   "metadata": {},
   "outputs": [],
   "source": [
    "class ZetaNumerical(SageObject):\n",
    "    r\"\"\"\n",
    "    Class to compute the Riemann zeta function.\n",
    "    \"\"\"\n",
    "    def __init__(self, prec=53, maxn=100):  # 'dunder' init function\n",
    "        \"\"\"\n",
    "        Initialize self.\n",
    "        \"\"\"\n",
    "        # define some \"private\" properties\n",
    "        self._prec = prec\n",
    "        self._base_ring = ComplexField(prec)\n",
    "        self._maxn = maxn\n",
    "\n",
    "    # convenience methods for accessing (not modifying) private variables\n",
    "    def prec(self):\n",
    "        r\"\"\"\n",
    "        Return precision of self.\n",
    "        \"\"\"\n",
    "        return self._prec\n",
    "\n",
    "    def base_ring(self):\n",
    "        r\"\"\"\n",
    "        Return the base ring of self.\n",
    "        \"\"\"\n",
    "        return self._base_ring\n",
    "\n",
    "    def __call__(self,s):  # 'dunder' call function, used when class element is \"called\"\n",
    "        # The 'r' in front of \"\"\" means that this is a \"raw\" string,\n",
    "        # without it the '\\z' here would cause an error.\n",
    "        r\"\"\"\n",
    "        Evaluate `\\zeta(s)`.\n",
    "\n",
    "        INPUT:\n",
    "\n",
    "        - ``s`` -- complex number\n",
    "\n",
    "        EXAMPLE:\n",
    "\n",
    "            sage: z = ZetaNumerical(103)\n",
    "            sage: z(10)\n",
    "            ...\n",
    "            sage: z(x)\n",
    "            ...\n",
    "            sage: Z = ZetaNumerical(prec=53, maxn=100)\n",
    "            sage: x = delta_lseries(10)\n",
    "            sage: Z(x)\n",
    "            ValueError                             \n",
    "            ...\n",
    "            ValueError: Could not coerce L-series of conductor 1 and weight 12 to a complex number!\n",
    "        \"\"\"\n",
    "        try: \n",
    "            scplx = self._base_ring(s)\n",
    "        except TypeError:  # Type error is raised when an internal function cannot apply on this type\n",
    "            raise ValueError(f\"Could not coerce {s} to a complex number!\")\n",
    "        if scplx.real() > 1:\n",
    "            return self._sum(scplx)\n",
    "        return self._euler_mclaurin(scplx)\n",
    "    \n",
    "    # Private method starting with '_'. \n",
    "    # Should not be called explicitly from outside this class\n",
    "    def _sum(self, s):\n",
    "        r\"\"\"\n",
    "        Evaluate self using a \"naive\" sum.\n",
    "        \"\"\"\n",
    "        return sum([self._base_ring(n)**-s for n in range(1, self._maxn)])\n",
    "    \n",
    "    def _euler_mclaurin(self,s):\n",
    "        r\"\"\"\n",
    "        Evaluate self using the Euler McLaurin summation formula.\n",
    "        \"\"\"\n",
    "        # When writing a class it is useful to populate it with methods you would like\n",
    "        # and then simply mark these as \n",
    "        raise NotImplementedError(\"This method has not been implemented yet!\")\n"
   ]
  },
  {
   "cell_type": "code",
   "execution_count": null,
   "metadata": {},
   "outputs": [],
   "source": [
    "Z = ZetaNumerical(prec=53, maxn=100)\n",
    "Z"
   ]
  },
  {
   "cell_type": "markdown",
   "metadata": {},
   "source": [
    "**Exercise**\n",
    "Add the following two methods to the class above:\n",
    "1. A \"dunder method\" called `__repr__` which determines how the object is displayed\n",
    "2. A method to plot values of zeta along a vertical line. Input should at minimum be the x coordinate, the endpoints of the line and the number of points. \n",
    "Hint: you might want to look at the function `parametric_plot`."
   ]
  },
  {
   "cell_type": "markdown",
   "metadata": {},
   "source": [
    "Since we inherited from SageObject we can easily save and load objects"
   ]
  },
  {
   "cell_type": "code",
   "execution_count": null,
   "metadata": {},
   "outputs": [],
   "source": [
    "# Save the object in a binary file 'my_object.sobj'\n",
    "Z.save('my_object.sobj')"
   ]
  },
  {
   "cell_type": "code",
   "execution_count": null,
   "metadata": {},
   "outputs": [],
   "source": [
    "# Load the object from file\n",
    "Z1 = load('my_object.sobj')"
   ]
  },
  {
   "cell_type": "code",
   "execution_count": null,
   "metadata": {},
   "outputs": [],
   "source": [
    "# Do we get back the same object? \n",
    "Z1 == Z"
   ]
  },
  {
   "cell_type": "markdown",
   "metadata": {},
   "source": [
    "The reason this doesn't work is that our class `ZetaNumerical` does not know **how** to compare anything.\n",
    "We can check that the data given by the loaded object is the same as that of the original:"
   ]
  },
  {
   "cell_type": "code",
   "execution_count": null,
   "metadata": {},
   "outputs": [],
   "source": [
    "Z.__dict__"
   ]
  },
  {
   "cell_type": "code",
   "execution_count": null,
   "metadata": {},
   "outputs": [],
   "source": [
    "Z1.__dict__"
   ]
  },
  {
   "cell_type": "markdown",
   "metadata": {},
   "source": [
    "**Exercise**\n",
    "Add another dunder method `__eq__` which takes as input `self` and `other` returns True if other is an object of the same type as self and has the same precision and maxn parameters, and otherwise returns False. \n"
   ]
  },
  {
   "cell_type": "markdown",
   "metadata": {},
   "source": [
    "It is possible to use methods from other python files by either using \n",
    "- `load`\n",
    "- `attach`\n",
    "However, to import notebooks is a bit more difficult. \n",
    "One option is to use the magic `%run` command and a full path name of the file.\n",
    "Note that this will run the entire notebook..."
   ]
  },
  {
   "cell_type": "code",
   "execution_count": null,
   "metadata": {},
   "outputs": [],
   "source": [
    "%run ExampleSolutions.ipynb"
   ]
  },
  {
   "cell_type": "code",
   "execution_count": null,
   "metadata": {},
   "outputs": [],
   "source": []
  },
  {
   "cell_type": "markdown",
   "metadata": {},
   "source": [
    "**Exercise**\n",
    "Make the call method of `ZetaNumerical` complete by either using the Euler-McLaurin method you implemented earlier (or the one from the \"solutions\"), or if you want to be quicker, cheat and use the builtin `zeta`.\n"
   ]
  },
  {
   "cell_type": "markdown",
   "metadata": {},
   "source": [
    "## Caching in Sage"
   ]
  },
  {
   "cell_type": "markdown",
   "metadata": {},
   "source": [
    "The `@cached_function` and `@cached_method` decorators can be used to store computed values and avoid recomputing the same thing twice\n"
   ]
  },
  {
   "cell_type": "code",
   "execution_count": null,
   "metadata": {},
   "outputs": [],
   "source": [
    "class MyClass(SageObject):\n",
    "\n",
    "    def computation(self,x):\n",
    "        print(\"doing computation\")\n",
    "        return CC(sum([n**-x for n in range(1, 1000)]))\n",
    "\n",
    "    @cached_method   \n",
    "    def computation_cached(self, x):\n",
    "        print(\"doing another computation\")\n",
    "        return CC(sum([n**-x for n in range(1, 1000)]))\n"
   ]
  },
  {
   "cell_type": "code",
   "execution_count": null,
   "metadata": {},
   "outputs": [],
   "source": [
    "X=MyClass()"
   ]
  },
  {
   "cell_type": "code",
   "execution_count": null,
   "metadata": {},
   "outputs": [],
   "source": [
    "X.computation(2)"
   ]
  },
  {
   "cell_type": "code",
   "execution_count": null,
   "metadata": {},
   "outputs": [],
   "source": [
    "X.computation_cached(2)"
   ]
  },
  {
   "cell_type": "code",
   "execution_count": null,
   "metadata": {},
   "outputs": [],
   "source": [
    "X.computation(2)"
   ]
  },
  {
   "cell_type": "code",
   "execution_count": null,
   "metadata": {},
   "outputs": [],
   "source": [
    "X.computation_cached(3)"
   ]
  },
  {
   "cell_type": "markdown",
   "metadata": {},
   "source": [
    "**Exercise**\n",
    "Add caching to relevant methods in your class. "
   ]
  },
  {
   "cell_type": "code",
   "execution_count": null,
   "metadata": {},
   "outputs": [],
   "source": []
  }
 ],
 "metadata": {
  "kernelspec": {
   "display_name": "SageMath 9.0",
   "language": "sage",
   "name": "sagemath"
  },
  "language_info": {
   "codemirror_mode": {
    "name": "ipython",
    "version": 3
   },
   "file_extension": ".py",
   "mimetype": "text/x-python",
   "name": "python",
   "nbconvert_exporter": "python",
   "pygments_lexer": "ipython3",
   "version": "3.7.3"
  }
 },
 "nbformat": 4,
 "nbformat_minor": 2
}
