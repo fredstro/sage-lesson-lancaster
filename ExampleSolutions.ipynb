{
 "cells": [
  {
   "cell_type": "markdown",
   "metadata": {},
   "source": [
    "## For Lesson 1"
   ]
  },
  {
   "cell_type": "code",
   "execution_count": null,
   "metadata": {},
   "outputs": [],
   "source": [
    "x = RealField(3.32*227).pi().exp()\n",
    "s = f\"e^pi = {x}\"\n",
    "# print(s)"
   ]
  },
  {
   "cell_type": "code",
   "execution_count": null,
   "metadata": {},
   "outputs": [],
   "source": [
    "len(s) - 7"
   ]
  },
  {
   "cell_type": "code",
   "execution_count": null,
   "metadata": {},
   "outputs": [],
   "source": []
  },
  {
   "cell_type": "markdown",
   "metadata": {},
   "source": [
    "## For lesson 2"
   ]
  },
  {
   "cell_type": "code",
   "execution_count": null,
   "metadata": {},
   "outputs": [],
   "source": []
  },
  {
   "cell_type": "code",
   "execution_count": null,
   "metadata": {},
   "outputs": [],
   "source": [
    "def zeta_v1(s, eps=1e-5):\n",
    "    r\"\"\"\n",
    "    Compute the Riemann zeta function.\n",
    "    \n",
    "    INPUT:\n",
    "    \n",
    "    - ``s`` -- complex number, argument\n",
    "    - ``eps`` -- real number, desired error estimate\n",
    "    \n",
    "    OUTPUT: complex number of same type as input\n",
    "    \"\"\"\n",
    "    if not isinstance(s,sage.rings.complex_number.ComplexNumber):\n",
    "        raise ValueError(\"Need a complex number!\")\n",
    "    if s.real() <= 1:\n",
    "        raise ValueError(\"Complex number need ot have real part greater than 1\")\n",
    "    # Crude error bound, simply estimating the last term\n",
    "    nmax = ceil(eps**(-1/s.real()))\n",
    "    return sum([s.parent()(n)**(-s) for n in range(1, nmax)])\n",
    "    \n",
    "    "
   ]
  },
  {
   "cell_type": "code",
   "execution_count": null,
   "metadata": {},
   "outputs": [],
   "source": [
    "zeta_v1(CC(3), eps=1e-10) - CC(zeta(3))"
   ]
  },
  {
   "cell_type": "code",
   "execution_count": null,
   "metadata": {},
   "outputs": [],
   "source": [
    "zeta_v1(CC(2,1))"
   ]
  },
  {
   "cell_type": "code",
   "execution_count": null,
   "metadata": {},
   "outputs": [],
   "source": [
    "plot([lambda x: zeta_v1(CC(x, 1)).real(), lambda x: zeta_v1(CC(2,x)).real()], 2, 10, legend_label=['$\\\\zeta(x+i)$', r'$\\zeta(2+xi)$'])"
   ]
  },
  {
   "cell_type": "markdown",
   "metadata": {},
   "source": [
    "## Lesson 3"
   ]
  },
  {
   "cell_type": "code",
   "execution_count": null,
   "metadata": {},
   "outputs": [],
   "source": [
    "var('s, t, u')\n",
    "f = (s + t*u) / sqrt(s^2 + t^2 + u^2); f\n",
    "diff(f, u).substitute(s=0, u=1, t=1) "
   ]
  },
  {
   "cell_type": "markdown",
   "metadata": {},
   "source": [
    "so correct answer is $\\frac{1}{2\\sqrt{2}}$"
   ]
  },
  {
   "cell_type": "code",
   "execution_count": null,
   "metadata": {},
   "outputs": [],
   "source": [
    "var('x, t')\n",
    "F = t * e**(x*t) / (e**t - 1); F"
   ]
  },
  {
   "cell_type": "code",
   "execution_count": null,
   "metadata": {},
   "outputs": [],
   "source": [
    "F.taylor(t, 0, 1).coefficient(t)"
   ]
  },
  {
   "cell_type": "code",
   "execution_count": null,
   "metadata": {},
   "outputs": [],
   "source": [
    "def Bernoulli_pol(k):\n",
    "    var('x, t')\n",
    "    F = t * e**(x*t) / (e**t - 1)\n",
    "    return factorial(k)*F.taylor(t, 0, k).coefficient(t^k)"
   ]
  },
  {
   "cell_type": "code",
   "execution_count": null,
   "metadata": {},
   "outputs": [],
   "source": [
    "var('y')\n",
    "bernoulli_polynomial(y, 1)"
   ]
  },
  {
   "cell_type": "code",
   "execution_count": null,
   "metadata": {},
   "outputs": [],
   "source": [
    "[Bernoulli_pol(k) - bernoulli_polynomial(x, k) for k in range(2, 50, 2)]"
   ]
  },
  {
   "cell_type": "code",
   "execution_count": null,
   "metadata": {},
   "outputs": [],
   "source": [
    "%timeit Bernoulli_pol(10)"
   ]
  },
  {
   "cell_type": "code",
   "execution_count": null,
   "metadata": {},
   "outputs": [],
   "source": [
    "%timeit bernoulli_polynomial(x, 10)"
   ]
  },
  {
   "cell_type": "markdown",
   "metadata": {},
   "source": [
    "# Examples for Lesson 4"
   ]
  },
  {
   "cell_type": "code",
   "execution_count": null,
   "metadata": {},
   "outputs": [],
   "source": [
    "def pochhammer(s, j):\n",
    "    return gamma(s + j) / gamma(s)\n",
    "\n",
    "def zeta_euler_mclaurin(s, k, a=10):\n",
    "    F = s.parent()\n",
    "    ca = F(a)\n",
    "    term0 = sum(F(n)**-s for n in range(1, a))\n",
    "    term1 = 1 / (s - 1) * F(a)**(1 - s)\n",
    "    term2 = 1/2 * F(a)**-s\n",
    "    term3 = sum((-1)**(j - 1) * pochhammer(s, j - 1) * bernoulli(j) / factorial(j)\n",
    "                 *ca**(-s - j + 1) for j in range(2, k + 1))\n",
    "    # print(term1, term2, term3)\n",
    "    return term0 + term1 + term2 - term3"
   ]
  },
  {
   "cell_type": "code",
   "execution_count": null,
   "metadata": {},
   "outputs": [],
   "source": [
    "CF = ComplexField(53)\n",
    "diffs = [lambda t: abs(zeta_euler_mclaurin(CF(1, t), k, a=3) - \n",
    "                       CF(zeta(CF(1,t)))) for k in [10, 15]]\n",
    "diffs = [lambda t: abs(zeta_euler_mclaurin(CF(1, t), 10, a=3) - \n",
    "                       CF(zeta(CF(1, t)))),\n",
    "         lambda u: abs(zeta_euler_mclaurin(CF(1, u), 15, a=3) - \n",
    "                       CF(zeta(CF(1, u))))]"
   ]
  },
  {
   "cell_type": "code",
   "execution_count": null,
   "metadata": {},
   "outputs": [],
   "source": [
    "plot([diffs[0], diffs[1]], 1, 5, legend_label=['10', '15'])\n",
    "# shows that the choice of a is not that important"
   ]
  },
  {
   "cell_type": "code",
   "execution_count": null,
   "metadata": {},
   "outputs": [],
   "source": []
  },
  {
   "cell_type": "code",
   "execution_count": null,
   "metadata": {},
   "outputs": [],
   "source": [
    "def bernoulli_recursive(k):\n",
    "    if k == 0:\n",
    "        return 1\n",
    "    return -sum([binomial(k, j) * bernoulli_recursive(j) / (k - j + 1) for j in range(0, k)])"
   ]
  },
  {
   "cell_type": "code",
   "execution_count": null,
   "metadata": {},
   "outputs": [],
   "source": [
    "[bernoulli_recursive(k) for k in range(10)]"
   ]
  },
  {
   "cell_type": "markdown",
   "metadata": {},
   "source": [
    "# Examples for Lesson 5"
   ]
  },
  {
   "cell_type": "code",
   "execution_count": null,
   "metadata": {},
   "outputs": [],
   "source": [
    "class ZetaNumerical(SageObject):\n",
    "    r\"\"\"\n",
    "    Class to compute the Riemann zeta function.\n",
    "    \"\"\"\n",
    "    def __init__(self, prec=53, maxn=100):  # 'dunder' init function\n",
    "        r\"\"\"\n",
    "        Initialize.\n",
    "        \"\"\"\n",
    "        # define some \"private\" properties\n",
    "        self._prec = prec\n",
    "        self._base_ring = ComplexField(prec)\n",
    "        self._maxn = maxn\n",
    "\n",
    "    # convencience methods for accessing (not modifying) private variables\n",
    "    def prec(self):\n",
    "        r\"\"\"\n",
    "        Return precision of self.\n",
    "        \"\"\"\n",
    "        return self._prec\n",
    "    \n",
    "    def base_ring(self):\n",
    "        r\"\"\"\n",
    "        Return the base ring of self.\n",
    "        \"\"\"\n",
    "        return self._base_ring\n",
    "    \n",
    "    \n",
    "    def __call__(self,s):  # 'dunder' call function, used when class element is \"called\"\n",
    "        # The 'r' in front of \"\"\" means that this is a \"raw\" string,\n",
    "        # in particular the backslash in '\\z' will work here.\n",
    "        r\"\"\"\n",
    "        Evaluate `\\zeta(s)`\n",
    "\n",
    "        INPUT:\n",
    "\n",
    "        - ``s`` -- complex number\n",
    "\n",
    "        EXAMPLE:\n",
    "        \n",
    "        sage: z = ZetaNumerical(103)\n",
    "        sage: z(10)\n",
    "        ...\n",
    "        sage: z(x)\n",
    "        ...\n",
    "        \"\"\"\n",
    "        try: \n",
    "            scplx = self._base_ring(s)\n",
    "        except TypeError:  # Type error is raised when an internal function can not apply on this type\n",
    "            raise ValueError(f\"Could not coerce {z} to a complex number!\")\n",
    "        if scplx.real() > 1:\n",
    "            return self._sum(scplx)\n",
    "        return self._euler_mclaurin(scplx)\n",
    "    \n",
    "    # Private method starting with '_'. \n",
    "    # Should not be called explicitly from outside this class\n",
    "    def _sum(self, s):\n",
    "        r\"\"\"\n",
    "        Evaluate self using a \"naive\" sum.\n",
    "        \"\"\"\n",
    "        return sum([self._base_ring(n)**-s for n in range(1, self._maxn)])\n",
    "    \n",
    "    def _euler_mclaurin(self, s):\n",
    "        r\"\"\"\n",
    "        Evaluate self using the Euler McLaurin summation formula.\n",
    "        \"\"\"\n",
    "        # When writing a class it is useful to populate it with methods you would like\n",
    "        # and then simply mark these as \n",
    "        # raise NotImplementedError(\"This method has not been implemented yet!\")\n",
    "        return zeta_euler_mclaurin(s, k=25, a=10)\n",
    "    \n",
    "    def __repr__(self):\n",
    "        \"\"\"\n",
    "        String representation of self.\n",
    "        \"\"\"\n",
    "        return f\"NumericalZ with precision {self._prec}\"\n",
    "    \n",
    "    def plot_along_vertical(self,x,ylim,num_points=100):\n",
    "        \"\"\"\n",
    "        Plot zeta along on a vertical line.\n",
    "\n",
    "        INPUT:\n",
    "\n",
    "        - ``x`` -- real number, the x-coordinate of the line\n",
    "\n",
    "        - ``ylim`` -- tuple (a,b) with a < b, endpoint of the vertical line\n",
    "\n",
    "        - ``num_points`` -- integer (default=100), number of points to use\n",
    "        \"\"\"\n",
    "        try: \n",
    "            a, b = ylim\n",
    "        except TypeError:\n",
    "            raise ValueError(\"Limits must be  tuple!\")\n",
    "        if a >= b:\n",
    "            raise ValueError(\"Endpoints (a, b) must satisfy a < b\")\n",
    "        return parametric_plot((lambda t: self(CC(x, t)).real(),\n",
    "                                lambda t: Z(CC(x, t)).imag()), (t, a, b))\n",
    "\n",
    "    def __eq__(self, other):\n",
    "        if not isinstance(other, ZetaNumerical):\n",
    "            return False\n",
    "        return self._prec == other._prec and self._maxn == other._maxn"
   ]
  },
  {
   "cell_type": "code",
   "execution_count": null,
   "metadata": {},
   "outputs": [],
   "source": [
    "Z = ZetaNumerical();Z"
   ]
  },
  {
   "cell_type": "code",
   "execution_count": null,
   "metadata": {},
   "outputs": [],
   "source": [
    "str(Z)"
   ]
  },
  {
   "cell_type": "code",
   "execution_count": null,
   "metadata": {},
   "outputs": [],
   "source": []
  },
  {
   "cell_type": "code",
   "execution_count": null,
   "metadata": {},
   "outputs": [],
   "source": [
    "Z.plot_along_vertical(2, (2, 3))"
   ]
  },
  {
   "cell_type": "markdown",
   "metadata": {},
   "source": [
    "# Examples for Lesson 6"
   ]
  },
  {
   "cell_type": "code",
   "execution_count": null,
   "metadata": {},
   "outputs": [],
   "source": [
    "# Exclude the point s = 1 from the plot\n",
    "plot3d(lambda x, y: abs(zeta(CF(x, y))) if (x, y) != (1, 0) else 0, (0, 2), (0, 20), viewer='canvas3d')"
   ]
  },
  {
   "cell_type": "code",
   "execution_count": null,
   "metadata": {
    "scrolled": true
   },
   "outputs": [],
   "source": [
    "complex_plot(lambda z: zeta(z), (0, 1), (14, 14.5))"
   ]
  },
  {
   "cell_type": "code",
   "execution_count": null,
   "metadata": {
    "scrolled": true
   },
   "outputs": [],
   "source": [
    "p3 = density_plot(lambda x, y: abs(zeta(CC(x, y))), (0, 1), (10, 15), cmap='jet')\n",
    "p3"
   ]
  },
  {
   "cell_type": "markdown",
   "metadata": {},
   "source": [
    "# Exampes for Lesson 7"
   ]
  },
  {
   "cell_type": "code",
   "execution_count": null,
   "metadata": {},
   "outputs": [],
   "source": [
    "%timeit zeta(CC(0.5, 10))"
   ]
  },
  {
   "cell_type": "code",
   "execution_count": null,
   "metadata": {},
   "outputs": [],
   "source": [
    "%timeit zeta_euler_mclaurin(CC(0.5, 10), 10, 2)"
   ]
  },
  {
   "cell_type": "code",
   "execution_count": null,
   "metadata": {},
   "outputs": [],
   "source": [
    "def primes_mod_n(n, m):\n",
    "    results = {i: 0 for i in range(n)}  # initialize dict\n",
    "    for p in primes(m):\n",
    "        results[p % n] += 1\n",
    "    return results"
   ]
  },
  {
   "cell_type": "code",
   "execution_count": null,
   "metadata": {},
   "outputs": [],
   "source": [
    "primes_mod_n(4, 10000)"
   ]
  },
  {
   "cell_type": "code",
   "execution_count": null,
   "metadata": {},
   "outputs": [],
   "source": [
    "# Combining the plots like this doesn't work since the variable name \n",
    "# x is the same. It will only return the last plot...\n",
    "plot([lambda x: primes_mod_n(4, floor(x))[i] for i in [1, 3]], 1, 100)"
   ]
  },
  {
   "cell_type": "code",
   "execution_count": null,
   "metadata": {},
   "outputs": [],
   "source": [
    "plot([lambda x: primes_mod_n(4, floor(x))[1], lambda y: primes_mod_n(4, floor(y))[3]], 1, 100)\n",
    "# \n",
    "# Trying something like this maybe??\n",
    "# var('x1, x3')\n",
    "# plot([lambda eval(f'x{i}'): primes_mod_n(4, floor(eval(f'x{i}')))[i] for i in [1, 3]], 1, 100)"
   ]
  },
  {
   "cell_type": "code",
   "execution_count": null,
   "metadata": {},
   "outputs": [],
   "source": [
    "def reduce_matrix_modn_inZZ(m):\n",
    "    if m.parent().degree() != 2:\n",
    "        raise ValueError(\"This only works for 2 x 2 matrices!\")\n",
    "    n = m.parent().base_ring().characteristic()\n",
    "    [a, b], [c, d] = [[x % n for x in y] for y in m.list()]\n",
    "    result =  matrix(ZZ, 2, 2, [[a, b], [c, d]])\n",
    "    result.set_immutable()\n",
    "    return result"
   ]
  }
 ],
 "metadata": {
  "kernelspec": {
   "display_name": "SageMath 9.0",
   "language": "sage",
   "name": "sagemath"
  },
  "language_info": {
   "codemirror_mode": {
    "name": "ipython",
    "version": 3
   },
   "file_extension": ".py",
   "mimetype": "text/x-python",
   "name": "python",
   "nbconvert_exporter": "python",
   "pygments_lexer": "ipython3",
   "version": "3.7.3"
  }
 },
 "nbformat": 4,
 "nbformat_minor": 2
}
