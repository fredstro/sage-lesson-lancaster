{
 "cells": [
  {
   "cell_type": "markdown",
   "metadata": {},
   "source": [
    "# Lesson 2 - The Riemann zeta function\n",
    "\n",
    "In this lesson we will go further into programming and learn about some control structures in Python\n",
    "\n",
    "## Learning Outcomes:\n",
    "- **Python**\n",
    "  - Iteration with `for` loops\n",
    "  - Conditional programming with `if`, `elif`, and `else`\n",
    "  - The `range` function\n",
    "  - List comprehensions\n",
    "- **SageMath**\n",
    "  - Plotting in 1D\n",
    "\n",
    "## Mathematical problem\n",
    "\n",
    "The Riemann zeta function $\\zeta(s)$ is defined for $s$ with real part greater than $1$ by \n",
    "$$ \\zeta(s) = 1 + 2^{-s} + 3^{-s} \\cdots = \\sum_{n=1}^{\\infty} n^{-s} $$\n",
    "It is known that \n",
    "1. $\\zeta(s)$ can be extended to an analytic (holomorphic) function in the entire complex plane except for a simple pole with residue $1$ at $s=1$.\n",
    "2. $\\zeta(s)$ satisfies a functional equation when reflecting in the line $\\Re(s)=1/2$ of the form: \n",
    "\n",
    "$$ \\zeta(s) = 2^s \\pi^{s-1} \\sin(\\frac{\\pi s}{2}) \\Gamma(1-s) \\zeta(1-s) $$\n",
    "3. $\\zeta(-2n) = 0$ for each positive integer $n$ (these are called trivial zeros)\n",
    "\n",
    "One of the main unsolved problems in number theory today is the **Riemann Hypothesis** which states that all non-trivial zeros of $\\zeta(s)$ lie on the line $\\Re(s) = 1/2$.\n",
    "\n",
    "The evidence for this conjecture is mainly experimental and has been verified up to a very large height. \n",
    "\n",
    "The main aim with the next few sessions is to study the Riemann zeta function and its zeros and (ideally) be able to verify the Riemann Hypothesis up to some height. \n",
    "\n",
    "## Python Control Structures\n",
    "\n",
    "Standard (used in most programming languages):\n",
    "- Iteration with `for` and `while` loops\n",
    "- If-then-else statements\n",
    "\n",
    "More Python specific:\n",
    "- Generator expressions\n",
    "- List comprehensions"
   ]
  },
  {
   "cell_type": "code",
   "execution_count": null,
   "metadata": {},
   "outputs": [],
   "source": [
    "for i in range(5):  # Iterate over a range of integers using the `range` function. Note that range starts from 0.\n",
    "    print(i)"
   ]
  },
  {
   "cell_type": "markdown",
   "metadata": {},
   "source": [
    "The output of the `range` function is an example of a generator expression. It does not actually allocate all elements until needed."
   ]
  },
  {
   "cell_type": "code",
   "execution_count": null,
   "metadata": {},
   "outputs": [],
   "source": [
    "range(5, 12)  # Specify start and end points"
   ]
  },
  {
   "cell_type": "markdown",
   "metadata": {},
   "source": [
    "We can cast a range to a `list` to see all of its elements.\n",
    "Note that `range` starts at the left endpoint and stops at the right endpoint without including it!"
   ]
  },
  {
   "cell_type": "code",
   "execution_count": null,
   "metadata": {},
   "outputs": [],
   "source": [
    "list(range(5, 12))"
   ]
  },
  {
   "cell_type": "markdown",
   "metadata": {},
   "source": [
    "Calling `list(range(10^(10^10)))` would run out of memory, but iterating over it is fine (although probably won't finish). <br>\n",
    "If evaluating the cell below, please call keyboard interrupt or select Kernel -> Interrupt from the toolbar above."
   ]
  },
  {
   "cell_type": "code",
   "execution_count": null,
   "metadata": {},
   "outputs": [],
   "source": [
    "for i in range(10^(10^10)):\n",
    "    pass"
   ]
  },
  {
   "cell_type": "markdown",
   "metadata": {},
   "source": [
    "### Example: `for` loops and list comprehensions\n",
    "\n",
    "We can evaluate $\\zeta(2)$, the zeta function at `s=2`, using a loop,\n",
    "and compare to the known value $\\frac{\\pi}{6}$."
   ]
  },
  {
   "cell_type": "code",
   "execution_count": null,
   "metadata": {},
   "outputs": [],
   "source": [
    "RR.pi()**2 / 6  # The known value we want to calculate"
   ]
  },
  {
   "cell_type": "code",
   "execution_count": null,
   "metadata": {},
   "outputs": [],
   "source": [
    "# Calculate the partial sum of the first 100 terms of `zeta(2)`\n",
    "result = 0  \n",
    "for n in range(1, 100):\n",
    "    result += n**(-2)\n",
    "print(result)"
   ]
  },
  {
   "cell_type": "markdown",
   "metadata": {},
   "source": [
    "We may also use a list comprehension, or directly use the generator expression to compute the partial sum"
   ]
  },
  {
   "cell_type": "code",
   "execution_count": null,
   "metadata": {},
   "outputs": [],
   "source": [
    "sum([n**(-2) for n in range(1, 100)])  # List comprehension"
   ]
  },
  {
   "cell_type": "code",
   "execution_count": null,
   "metadata": {},
   "outputs": [],
   "source": [
    "sum(n**(-2) for n in range(1, 100))  # Generator expression - most memory efficient"
   ]
  },
  {
   "cell_type": "markdown",
   "metadata": {},
   "source": [
    "### Partial zeta functions\n",
    "Define the partial zeta functions:\n",
    "$$\n",
    "\\zeta_{odd} = \\sum_{k = 0}^{\\infty} (2k + 1)^{-s}, \\quad \\zeta_{even} = \\sum_{k = 0}^{\\infty} (2k)^{-s}\n",
    "$$\n",
    "**Exercise**: Compute these infinite series for `s = 2` up to a certain number of terms."
   ]
  },
  {
   "cell_type": "code",
   "execution_count": null,
   "metadata": {
    "scrolled": true
   },
   "outputs": [],
   "source": [
    "# Computing an approximation to `zeta_odd(2)`\n",
    "print(sum([n**(-2) for n in range(1, 100) if n % 2 == 1]))  # Use list comprehension, modulo for parity\n",
    "print(sum(n**(-2) for n in range(1, 100, 2)))  # Use `step` keyword argument in `range` function\n",
    "result = 0\n",
    "for n in range(1, 100, 2):  # Using `range` with `step` size 2 in a `for` loop\n",
    "    result += n**(-2)\n",
    "print(result)"
   ]
  },
  {
   "cell_type": "code",
   "execution_count": null,
   "metadata": {},
   "outputs": [],
   "source": [
    "# If we want to compute both even and odd parts simultaneously we can use an if-elif-else:\n",
    "result_even = 0\n",
    "result_odd = 0\n",
    "for n in range(1, 100):\n",
    "    if n % 2 == 1:\n",
    "        result_odd += n**(-2)\n",
    "    elif n % 2 == 0:\n",
    "        result_even+= n**-2\n",
    "    else:  # This section of code should never run since we've already considered all possibilities for `n`\n",
    "        pass # Pass does nothing in a loop or function call \n",
    "print(f\"zeta_odd(2) = {result_odd}\")\n",
    "print(f\"zeta_even(2) = {result_even}\") # Verify that these sum to `zeta(2)` as calculated above"
   ]
  },
  {
   "cell_type": "markdown",
   "metadata": {},
   "source": [
    "### Exercise\n",
    "Write a function with the following specifications:\n",
    "1. Takes an input a complex number $s$\n",
    "2. Outputs an approximation of $\\zeta(s)$ (of the **same type** as the input) if $\\Re(s)>1$.\n",
    "3. Raises an appropriate error message if $s$ is of the wrong type or not in the correct domain.\n",
    "4. Has a docstring that explains it\n",
    "\n",
    "5. (extra): add a parameter to to adjust a desired error estimate. "
   ]
  },
  {
   "cell_type": "code",
   "execution_count": null,
   "metadata": {},
   "outputs": [],
   "source": [
    "def lesson2_zeta(s, eps=1e-5):\n",
    "    r\"\"\"\n",
    "    Approximate the Riemann zeta function evaluated at the complex number `s` which must have real part greater than `1`.\n",
    "\n",
    "    Calculated within a certain error bound determined by the optional argument `eps` which defaults to `1e-5`.\n",
    "\n",
    "    INPUT:\n",
    "\n",
    "    - ``s`` -- complex number, argument of zeta function\n",
    "\n",
    "    - ``eps`` -- real number, desired error estimate\n",
    "    \n",
    "    OUTPUT: A complex number of the same type (e.g. same precision) as `s`\n",
    "    \"\"\"\n",
    "    # Input checks\n",
    "    if not isinstance(s, sage.rings.complex_number.ComplexNumber):\n",
    "        raise ValueError(f\"The first argument `s` must be complex number! Received input s = {s}\")\n",
    "    elif not s.real() > 1:\n",
    "        raise ValueError(f\"The input complex number `s` must have real part greater than 1. Received input s = {s}\")\n",
    "    # Compute a crude error bound by estimating the last term\n",
    "    nmax = ceil(eps**(-1/s.real())) \n",
    "    return sum(s.parent()(n)**(-s) for n in range(1, nmax))  # `s.parent()` returns the field containing `s`"
   ]
  },
  {
   "cell_type": "code",
   "execution_count": null,
   "metadata": {},
   "outputs": [],
   "source": [
    "# Compare the output of our function to the builtin SageMath function `zeta`\n",
    "s = CC(10, 1)\n",
    "err_bound = eps = 10**(-10)\n",
    "result = lesson2_zeta(s, err_bound)\n",
    "print(result)\n",
    "print(zeta(s))\n",
    "print(zeta(s) - result)"
   ]
  },
  {
   "cell_type": "markdown",
   "metadata": {},
   "source": [
    "### More Jupyter magics\n",
    "#### The `%run` magic\n",
    "We can run other notebooks (or Python scripts) from within a Jupyter notebook instance using the `%run` magic, which will run all of the cells in the specified target notebook. <br>\n",
    "We could use this to import solutions written elsewhere (i.e. in other notebooks or Python files).\n",
    "\n",
    "However, it is generally not recommended to run external notebooks in this way as it may produce unexpected results, both affecting the state (collection of variable names and values), and possibly repeating a long-slow analysis. For those familiar with Python, this is similar to the reason that using `from <module-name> import *` statements are generally not recommended.\n",
    "\n",
    "Packaging code into modules and using `import` statements, or executing shorter scripts with the `.py` extension is the preferred way to import external Python code into notebooks.\n",
    "\n",
    "#### The `%whos` magic\n",
    "We can view a table of all of the variables which exist in the *interactive namespace* of our current notebook instance, along with their types, and some information about their stored data by using the `%whos` Jupyter magic command.\n",
    "We can use this to see how the interactive namespace changes before and after we run `ExampleSolutions.ipynb`."
   ]
  },
  {
   "cell_type": "code",
   "execution_count": null,
   "metadata": {},
   "outputs": [],
   "source": [
    "%whos  # See all the variables defined so far, can clear by restarting the kernel"
   ]
  },
  {
   "cell_type": "markdown",
   "metadata": {},
   "source": [
    "Running the notebook below will define a solution to the exercise above as a function called `zeta_v1`. <br>\n",
    "This will also execute various other code cells irrelevant to this exercise."
   ]
  },
  {
   "cell_type": "code",
   "execution_count": null,
   "metadata": {},
   "outputs": [],
   "source": [
    "%run ExampleSolutions.ipynb  # May change behaviour depending on changes made to `ExampleSolutions.ipynb`"
   ]
  },
  {
   "cell_type": "code",
   "execution_count": null,
   "metadata": {},
   "outputs": [],
   "source": [
    "%whos  # See the additional variables and functions defined in `ExampleSolutions.ipynb`"
   ]
  },
  {
   "cell_type": "code",
   "execution_count": null,
   "metadata": {},
   "outputs": [],
   "source": [
    "zeta_v1(CC(10, 1), eps=10**(-10)) # Execute the `zeta_v1` function defined in `ExampleSolutions.ipynb`"
   ]
  },
  {
   "cell_type": "markdown",
   "metadata": {},
   "source": [
    "The underscore `_` holds the result of the last executed expression or statement in an interactive interpreter session. <br>\n",
    "Therefore the cell below will display different results depending on the cell you ran previously, including running the same cell multiple times.\n",
    "\n",
    "See [here](https://stackoverflow.com/questions/5893163/what-is-the-purpose-of-the-single-underscore-variable-in-python) for further information."
   ]
  },
  {
   "cell_type": "code",
   "execution_count": null,
   "metadata": {},
   "outputs": [],
   "source": [
    "_ - zeta(CC(10, 1))"
   ]
  },
  {
   "cell_type": "markdown",
   "metadata": {},
   "source": [
    "### Plotting in Sagemath with the `plot` function\n",
    "The `plot()` function in SageMath takes as its first argument a function or list of functions. \n",
    "In the case that the passed functions take a single argument, the next two arguments, `start` and `end`, can be used to define the range over which to evaluate and plot them.\n",
    "TODO:\n",
    "- Introduce and explain the usage of the SageMath's `latex()` function, which can also be applied to most SageMath objects"
   ]
  },
  {
   "cell_type": "code",
   "execution_count": null,
   "metadata": {},
   "outputs": [],
   "source": [
    "# A first plot of zeta along the horizontal line Im(z) = 1, 2 < Re(z) < 10\n",
    "p = plot(lambda x: lesson2_zeta(CC(x, 1)).real(), 2, 10)"
   ]
  },
  {
   "cell_type": "code",
   "execution_count": null,
   "metadata": {},
   "outputs": [],
   "source": [
    "p"
   ]
  },
  {
   "cell_type": "code",
   "execution_count": null,
   "metadata": {},
   "outputs": [],
   "source": [
    "latex(p)  # Does not work, runs indefinitely, so needs kernel interrupt"
   ]
  },
  {
   "cell_type": "markdown",
   "metadata": {},
   "source": [
    "### Exercise \n",
    "1. Plot the zeta function along the vertical line $\\Re(s)=2$, and the horizontal line $\\Im(s)=2$ in the same plot\n",
    "2. Add a legend describing which curve is $\\zeta(x+i)$ and which one is $\\zeta(2+iy)$"
   ]
  },
  {
   "cell_type": "code",
   "execution_count": null,
   "metadata": {},
   "outputs": [],
   "source": [
    "zeta_on_real_part2 = lambda x: zeta(CC(2, x)).real()  # Define lambda functions to evaluate `zeta` along the lines\n",
    "zeta_on_imag_part1 = lambda x: zeta(CC(x, 1)).real()\n",
    "# The input argument `x` of our passed functions will run from `2` to `10`\n",
    "plot([zeta_on_real_part2, zeta_on_imag_part1], 2, 10, legend_label=[r'$\\zeta(2+xi)$', '$\\\\zeta(x+i)$'])"
   ]
  },
  {
   "cell_type": "code",
   "execution_count": null,
   "metadata": {},
   "outputs": [],
   "source": []
  }
 ],
 "metadata": {
  "kernelspec": {
   "display_name": "SageMath 9.0",
   "language": "sage",
   "name": "sagemath"
  },
  "language_info": {
   "codemirror_mode": {
    "name": "ipython",
    "version": 3
   },
   "file_extension": ".py",
   "mimetype": "text/x-python",
   "name": "python",
   "nbconvert_exporter": "python",
   "pygments_lexer": "ipython3",
   "version": "3.7.3"
  }
 },
 "nbformat": 4,
 "nbformat_minor": 2
}
